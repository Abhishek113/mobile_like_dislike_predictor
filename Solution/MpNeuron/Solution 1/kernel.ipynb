{
  "cells": [
    {
      "metadata": {
        "trusted": true,
        "_uuid": "6bdb60e83ab16296c03b8ef2e0d3f41932d0812d"
      },
      "cell_type": "code",
      "source": "import numpy as np\nimport pandas as pd\nimport matplotlib.pyplot as plt\nfrom sklearn.preprocessing import LabelEncoder,MinMaxScaler, StandardScaler\nfrom sklearn.model_selection import train_test_split, ParameterGrid\nfrom sklearn.metrics import accuracy_score, confusion_matrix, mean_squared_error, log_loss\nimport operator\nimport json\nfrom IPython import display\nimport os\nimport warnings\n\nnp.random.seed(0)\nwarnings.filterwarnings(\"ignore\")\nTHRESHOLD = 4",
      "execution_count": 436,
      "outputs": []
    },
    {
      "metadata": {
        "_uuid": "ef6501f7a84a039120572f858d136e767a967fdf"
      },
      "cell_type": "markdown",
      "source": "Task: To predict whether the user likes the mobile phone or not. <br>\nAssumption: If the average rating of mobile >= threshold, then the user likes it, otherwise not."
    },
    {
      "metadata": {
        "_uuid": "3e882291a646d26c1265a215c32d518c32b211e2"
      },
      "cell_type": "markdown",
      "source": "<b>Missing values:</b><br>\n'Also Known As'(459),'Applications'(421),'Audio Features'(437),'Bezel-less display'(266),'Browser'(449),'Build Material'(338),'Co-Processor'(451),'Display Colour'(457),'Mobile High-Definition Link(MHL)'(472),'Music'(447)\n'Email','Fingerprint Sensor Position'(174),'Games'(446),'HDMI'(454),'Heart Rate Monitor'(467),'IRIS Scanner'(467),\n'Optical Image Stabilisation'(219),'Other Facilities'(444),'Phone Book'(444),'Physical Aperture'(87),'Quick Charging'(122),'Ring Tone'(444),'Ruggedness'(430),SAR Value(315),'SIM 3'(472),'SMS'(470)', 'Screen Protection'(229),'Screen to Body Ratio (claimed by the brand)'(428),'Sensor'(242),'Software Based Aperture'(473),\n'Special Features'(459),'Standby time'(334),'Stylus'(473),'TalkTime'(259), 'USB Type-C'(374),'Video Player'(456),\n'Video Recording Features'(458),'Waterproof'(398),'Wireless Charging','USB OTG Support'(159), 'Video ,'Recording'(113),'Java'(471),'Browser'(448)\n\n<b>Very low variance:</b><br>\n'Architecture'(most entries are 64-bit),'Audio Jack','GPS','Loudspeaker','Network','Network Support','Other Sensors'(28),'SIM Size', 'VoLTE'\n\n\n<b>Multivalued:</b><br>\n'Colours','Custom UI','Model'(1),'Other Sensors','Launch Date'\n\n<b>Not important:</b><br>\n'Bluetooth', 'Settings'(75),'Wi-Fi','Wi-Fi Features'\n\n<b>Doubtful:</b><br>\n'Aspect Ratio','Autofocus','Brand','Camera Features','Fingerprint Sensor'(very few entries are missing),\n'Fingerprint Sensor Position', 'Graphics'(multivalued),'Image resolution'(multivalued),'SIM Size','Sim Slot(s)', 'User Available Storage', 'SIM 1', 'SIM 2','Shooting Modes', 'Touch Screen'(24), 'USB Connectivity'\n    \n<b>To check:</b><br>\n'Display Type','Expandable Memory','FM Radio'\n\n<b>High Correlation with other features</b><br>\n'SIM Slot(s)' high correlation with SIM1\n'Weight' has high high correlation with capacity , screen-to-body ratio\n'Height' - screen size is also there\n    \n<b>Given a mobile, we can't directly get these features</b><br>\n'Rating Count', 'Review Count'\n\n<b>Keeping:</b><br>\n'Capacity','Flash'(17),'Height'(22),'Internal Memory'(20, require cleaning),'Operating System'(25, require cleaning), 'Pixel Density'(1, clean it),'Processor'(22, clean it), 'RAM'(17, clean), 'Rating','Resolution'(cleaning), 'Screen Resolution','Screen Size', 'Thickness'(22), 'Type','User Replaceable','Weight'(cleaning),'Sim Size'(), 'Other Sensors'(28), 'Screen to Body Ratio (calculated)','Width',\n"
    },
    {
      "metadata": {
        "trusted": true,
        "_uuid": "f32143f1e689ea13080e1d07ead75eedfd055dc7"
      },
      "cell_type": "code",
      "source": "# read data from file\ntrain = pd.read_csv(\"../input/train.csv\") \ntest = pd.read_csv(\"../input/test.csv\")\n\n# check the number of features and data points in train\nprint(\"Number of data points in train: %d\" % train.shape[0])\nprint(\"Number of features in train: %d\" % train.shape[1])\n\n# check the number of features and data points in test\nprint(\"Number of data points in test: %d\" % test.shape[0])\nprint(\"Number of features in test: %d\" % test.shape[1])",
      "execution_count": 437,
      "outputs": [
        {
          "output_type": "stream",
          "text": "Number of data points in train: 355\nNumber of features in train: 99\nNumber of data points in test: 119\nNumber of features in test: 98\n",
          "name": "stdout"
        }
      ]
    },
    {
      "metadata": {
        "trusted": true,
        "_uuid": "3fdafbe8ae2b70b86085152cadb4ca13ba14c801"
      },
      "cell_type": "code",
      "source": "def data_clean(data):\n    \n    # Let's first remove all missing value features\n    columns_to_remove = ['Also Known As','Applications','Audio Features','Bezel-less display'\n                         'Browser','Build Material','Co-Processor','Browser'\n                         'Display Colour','Mobile High-Definition Link(MHL)',\n                         'Music', 'Email','Fingerprint Sensor Position',\n                         'Games','HDMI','Heart Rate Monitor','IRIS Scanner', \n                         'Optical Image Stabilisation','Other Facilities',\n                         'Phone Book','Physical Aperture','Quick Charging',\n                         'Ring Tone','Ruggedness','SAR Value','SIM 3','SMS',\n                         'Screen Protection','Screen to Body Ratio (claimed by the brand)',\n                         'Sensor','Software Based Aperture', 'Special Features',\n                         'Standby time','Stylus','TalkTime', 'USB Type-C',\n                         'Video Player', 'Video Recording Features','Waterproof',\n                         'Wireless Charging','USB OTG Support', 'Video Recording','Java']\n\n    columns_to_retain = list(set(data.columns)-set(columns_to_remove))\n    data = data[columns_to_retain]\n\n    #Features having very low variance \n    columns_to_remove = ['Architecture','Audio Jack','GPS','Loudspeaker','Network','Network Support','VoLTE']\n    columns_to_retain = list(set(data.columns)-set(columns_to_remove))\n    data = data[columns_to_retain]\n\n    # Multivalued:\n    columns_to_remove = ['Architecture','Launch Date','Audio Jack','GPS','Loudspeaker','Network','Network Support','VoLTE', 'Custom UI']\n    columns_to_retain = list(set(data.columns)-set(columns_to_remove))\n    data = data[columns_to_retain]\n\n    # Not much important\n    columns_to_remove = ['Bluetooth', 'Settings','Wi-Fi','Wi-Fi Features']\n    columns_to_retain = list(set(data.columns)-set(columns_to_remove))\n    data = data[columns_to_retain]\n    \n    return data",
      "execution_count": 438,
      "outputs": []
    },
    {
      "metadata": {
        "_uuid": "a38e080b99bea861975c89efae1f8b5af8b129f2"
      },
      "cell_type": "markdown",
      "source": "# Removing features"
    },
    {
      "metadata": {
        "trusted": true,
        "_uuid": "57d6e26c445bc56fab35615ef8f15035d34419c7"
      },
      "cell_type": "code",
      "source": "train = data_clean(train)\ntest = data_clean(test)",
      "execution_count": 439,
      "outputs": []
    },
    {
      "metadata": {
        "_uuid": "8dbc9a3ccc3a5b753ea38d45582919d11fed30e5"
      },
      "cell_type": "markdown",
      "source": "removing all those data points in which more than 15 features are missing "
    },
    {
      "metadata": {
        "trusted": true,
        "_uuid": "3b0298021b77502244220f9beb26e3f7818440dd"
      },
      "cell_type": "code",
      "source": "train = train[(train.isnull().sum(axis=1) <= 15)]\n# You shouldn't remove data points from test set\n#test = test[(test.isnull().sum(axis=1) <= 15)]",
      "execution_count": 440,
      "outputs": []
    },
    {
      "metadata": {
        "trusted": true,
        "_uuid": "9b18577a65d5f58946baee6ac2385f33a7606f25"
      },
      "cell_type": "code",
      "source": "# check the number of features and data points in train\nprint(\"Number of data points in train: %d\" % train.shape[0])\nprint(\"Number of features in train: %d\" % train.shape[1])\n\n# check the number of features and data points in test\nprint(\"Number of data points in test: %d\" % test.shape[0])\nprint(\"Number of features in test: %d\" % test.shape[1])",
      "execution_count": 441,
      "outputs": [
        {
          "output_type": "stream",
          "text": "Number of data points in train: 341\nNumber of features in train: 47\nNumber of data points in test: 119\nNumber of features in test: 46\n",
          "name": "stdout"
        }
      ]
    },
    {
      "metadata": {
        "_uuid": "740c462d63c7a7cfcb78ab16c3e54bec2b0f39de"
      },
      "cell_type": "markdown",
      "source": "# Filling Missing values"
    },
    {
      "metadata": {
        "trusted": true,
        "_uuid": "38ed58350bdb8a1feed6d10037f02bbeff5a9161"
      },
      "cell_type": "code",
      "source": "def for_integer(test):\n    try:\n        test = test.strip()\n        return int(test.split(' ')[0])\n    except IOError:\n           pass\n    except ValueError:\n        pass\n    except:\n        pass\n\ndef for_string(test):\n    try:\n        test = test.strip()\n        return (test.split(' ')[0])\n    except IOError:\n        pass\n    except ValueError:\n        pass\n    except:\n        pass\n\ndef for_float(test):\n    try:\n        test = test.strip()\n        return float(test.split(' ')[0])\n    except IOError:\n        pass\n    except ValueError:\n        pass\n    except:\n        pass\ndef find_freq(test):\n    try:\n        test = test.strip()\n        test = test.split(' ')\n        if test[2][0] == '(':\n            return float(test[2][1:])\n        return float(test[2])\n    except IOError:\n        pass\n    except ValueError:\n        pass\n    except:\n        pass\n\n    \ndef for_Internal_Memory(test):\n    try:\n        test = test.strip()\n        test = test.split(' ')\n        if test[1] == 'GB':\n            return int(test[0])\n        if test[1] == 'MB':\n#             print(\"here\")\n            return (int(test[0]) * 0.001)\n    except IOError:\n           pass\n    except ValueError:\n        pass\n    except:\n        pass\n    \ndef find_freq(test):\n    try:\n        test = test.strip()\n        test = test.split(' ')\n        if test[2][0] == '(':\n            return float(test[2][1:])\n        return float(test[2])\n    except IOError:\n        pass\n    except ValueError:\n        pass\n    except:\n        pass\n",
      "execution_count": 442,
      "outputs": []
    },
    {
      "metadata": {
        "trusted": true,
        "_uuid": "f9df5b8872639bf1fd16815c654e89b245453d37"
      },
      "cell_type": "code",
      "source": "def data_clean_2(x):\n    data = x.copy()\n    \n    data['Capacity'] = data['Capacity'].apply(for_integer)\n\n    data['Height'] = data['Height'].apply(for_float)\n    data['Height'] = data['Height'].fillna(data['Height'].mean())\n\n    data['Internal Memory'] = data['Internal Memory'].apply(for_Internal_Memory)\n\n    data['Pixel Density'] = data['Pixel Density'].apply(for_integer)\n\n    data['Internal Memory'] = data['Internal Memory'].fillna(data['Internal Memory'].median())\n    data['Internal Memory'] = data['Internal Memory'].astype(int)\n\n    data['RAM'] = data['RAM'].apply(for_integer)\n    data['RAM'] = data['RAM'].fillna(data['RAM'].median())\n    data['RAM'] = data['RAM'].astype(int)\n\n    data['Resolution'] = data['Resolution'].apply(for_integer)\n    data['Resolution'] = data['Resolution'].fillna(data['Resolution'].median())\n    data['Resolution'] = data['Resolution'].astype(int)\n\n    data['Screen Size'] = data['Screen Size'].apply(for_float)\n\n    data['Thickness'] = data['Thickness'].apply(for_float)\n    data['Thickness'] = data['Thickness'].fillna(data['Thickness'].mean())\n    data['Thickness'] = data['Thickness'].round(2)\n\n    data['Type'] = data['Type'].fillna('Li-Polymer')\n\n    data['Screen to Body Ratio (calculated)'] = data['Screen to Body Ratio (calculated)'].apply(for_float)\n    data['Screen to Body Ratio (calculated)'] = data['Screen to Body Ratio (calculated)'].fillna(data['Screen to Body Ratio (calculated)'].mean())\n    data['Screen to Body Ratio (calculated)'] = data['Screen to Body Ratio (calculated)'].round(2)\n\n    data['Width'] = data['Width'].apply(for_float)\n    data['Width'] = data['Width'].fillna(data['Width'].mean())\n    data['Width'] = data['Width'].round(2)\n\n    data['Flash'][data['Flash'].isna() == True] = \"Other\"\n\n    data['User Replaceable'][data['User Replaceable'].isna() == True] = \"Other\"\n\n    data['Num_cores'] = data['Processor'].apply(for_string)\n    data['Num_cores'][data['Num_cores'].isna() == True] = \"Other\"\n\n\n    data['Processor_frequency'] = data['Processor'].apply(find_freq)\n    #because there is one entry with 208MHz values, to convert it to GHz\n    data['Processor_frequency'][data['Processor_frequency'] > 200] = 0.208\n    data['Processor_frequency'] = data['Processor_frequency'].fillna(data['Processor_frequency'].mean())\n    data['Processor_frequency'] = data['Processor_frequency'].round(2)\n\n    data['Camera Features'][data['Camera Features'].isna() == True] = \"Other\"\n\n    #simplifyig Operating System to os_name for simplicity\n    data['os_name'] = data['Operating System'].apply(for_string)\n    data['os_name'][data['os_name'].isna() == True] = \"Other\"\n\n    data['Sim1'] = data['SIM 1'].apply(for_string)\n\n    data['SIM Size'][data['SIM Size'].isna() == True] = \"Other\"\n\n    data['Image Resolution'][data['Image Resolution'].isna() == True] = \"Other\"\n\n    data['Fingerprint Sensor'][data['Fingerprint Sensor'].isna() == True] = \"Other\"\n\n    data['Expandable Memory'][data['Expandable Memory'].isna() == True] = \"No\"\n\n    data['Weight'] = data['Weight'].apply(for_integer)\n    data['Weight'] = data['Weight'].fillna(data['Weight'].mean())\n    data['Weight'] = data['Weight'].astype(int)\n\n    data['SIM 2'] = data['SIM 2'].apply(for_string)\n    data['SIM 2'][data['SIM 2'].isna() == True] = \"Other\"\n    \n    return data",
      "execution_count": 443,
      "outputs": []
    },
    {
      "metadata": {
        "trusted": true,
        "_uuid": "7f768a1fbdd8324b6cbe95af015bd29b1ab90e13"
      },
      "cell_type": "code",
      "source": "train = data_clean_2(train)\ntest = data_clean_2(test)\n\n# check the number of features and data points in train\nprint(\"Number of data points in train: %d\" % train.shape[0])\nprint(\"Number of features in train: %d\" % train.shape[1])\n\n# check the number of features and data points in test\nprint(\"Number of data points in test: %d\" % test.shape[0])\nprint(\"Number of features in test: %d\" % test.shape[1])",
      "execution_count": 444,
      "outputs": [
        {
          "output_type": "stream",
          "text": "Number of data points in train: 341\nNumber of features in train: 51\nNumber of data points in test: 119\nNumber of features in test: 50\n",
          "name": "stdout"
        }
      ]
    },
    {
      "metadata": {
        "_uuid": "78d2b10620967eed0c12d83457eda3531bfebf87"
      },
      "cell_type": "markdown",
      "source": "Not very important feature"
    },
    {
      "metadata": {
        "trusted": true,
        "_uuid": "4d081916f7d8be01fc2383cc993a1140109d3c41"
      },
      "cell_type": "code",
      "source": "def data_clean_3(x):\n    \n    data = x.copy()\n\n    columns_to_remove = ['User Available Storage','SIM Size','Chipset','Processor','Autofocus','Aspect Ratio','Touch Screen',\n                        'Bezel-less display','Operating System','SIM 1','USB Connectivity','Other Sensors','Graphics','FM Radio',\n                        'NFC','Shooting Modes','Browser','Display Colour' ]\n\n    columns_to_retain = list(set(data.columns)-set(columns_to_remove))\n    data = data[columns_to_retain]\n\n\n    columns_to_remove = [ 'Screen Resolution','User Replaceable','Camera Features',\n                        'Thickness', 'Display Type']\n\n    columns_to_retain = list(set(data.columns)-set(columns_to_remove))\n    data = data[columns_to_retain]\n\n\n    columns_to_remove = ['Fingerprint Sensor', 'Flash', 'Rating Count', 'Review Count','Image Resolution','Type','Expandable Memory',\\\n                        'Colours','Width','Model']\n    columns_to_retain = list(set(data.columns)-set(columns_to_remove))\n    data = data[columns_to_retain]\n\n    return data",
      "execution_count": 445,
      "outputs": []
    },
    {
      "metadata": {
        "trusted": true,
        "_uuid": "50a424c00652aa61f63a9dc40e2b39786e95f6c1"
      },
      "cell_type": "code",
      "source": "train = data_clean_3(train)\ntest = data_clean_3(test)\n\n# check the number of features and data points in train\nprint(\"Number of data points in train: %d\" % train.shape[0])\nprint(\"Number of features in train: %d\" % train.shape[1])\n\n# check the number of features and data points in test\nprint(\"Number of data points in test: %d\" % test.shape[0])\nprint(\"Number of features in test: %d\" % test.shape[1])",
      "execution_count": 446,
      "outputs": [
        {
          "output_type": "stream",
          "text": "Number of data points in train: 341\nNumber of features in train: 18\nNumber of data points in test: 119\nNumber of features in test: 17\n",
          "name": "stdout"
        }
      ]
    },
    {
      "metadata": {
        "trusted": true,
        "_uuid": "1164d6f5df0f8801fb625dbad9251641e031afd5"
      },
      "cell_type": "code",
      "source": "# one hot encoding\n\ntrain_ids = train['PhoneId']\ntest_ids = test['PhoneId']\n\ncols = list(test.columns)\ncols.remove('PhoneId')\ncols.insert(0, 'PhoneId')\n\ncombined = pd.concat([train.drop('Rating', axis=1)[cols], test[cols]])\nprint(combined.shape)\nprint(combined.columns)\n\ncombined = pd.get_dummies(combined)\nprint(combined.shape)\nprint(combined.columns)\n\ntrain_new = combined[combined['PhoneId'].isin(train_ids)]\ntest_new = combined[combined['PhoneId'].isin(test_ids)]",
      "execution_count": 447,
      "outputs": [
        {
          "output_type": "stream",
          "text": "(460, 17)\nIndex(['PhoneId', 'Height', 'Processor_frequency', 'Sim1', 'Weight',\n       'Capacity', 'Resolution', 'os_name', 'SIM Slot(s)', 'Screen Size',\n       'Screen to Body Ratio (calculated)', 'Pixel Density', 'Num_cores',\n       'Brand', 'SIM 2', 'Internal Memory', 'RAM'],\n      dtype='object')\n(460, 87)\nIndex(['PhoneId', 'Height', 'Processor_frequency', 'Weight', 'Capacity',\n       'Resolution', 'Screen Size', 'Screen to Body Ratio (calculated)',\n       'Pixel Density', 'Internal Memory', 'RAM', 'Sim1_2G', 'Sim1_3G',\n       'Sim1_4G', 'os_name_Android', 'os_name_Blackberry', 'os_name_KAI',\n       'os_name_Nokia', 'os_name_Other', 'os_name_Tizen', 'os_name_iOS',\n       'SIM Slot(s)_Dual SIM, GSM+CDMA', 'SIM Slot(s)_Dual SIM, GSM+GSM',\n       'SIM Slot(s)_Dual SIM, GSM+GSM, Dual VoLTE',\n       'SIM Slot(s)_Single SIM, GSM', 'Num_cores_312', 'Num_cores_Deca',\n       'Num_cores_Dual', 'Num_cores_Hexa', 'Num_cores_Octa', 'Num_cores_Other',\n       'Num_cores_Quad', 'Num_cores_Tru-Octa', 'Brand_10.or', 'Brand_Apple',\n       'Brand_Asus', 'Brand_Billion', 'Brand_Blackberry', 'Brand_Comio',\n       'Brand_Coolpad', 'Brand_Do', 'Brand_Gionee', 'Brand_Google',\n       'Brand_HTC', 'Brand_Honor', 'Brand_Huawei', 'Brand_InFocus',\n       'Brand_Infinix', 'Brand_Intex', 'Brand_Itel', 'Brand_Jivi',\n       'Brand_Karbonn', 'Brand_LG', 'Brand_Lava', 'Brand_LeEco',\n       'Brand_Lenovo', 'Brand_Lephone', 'Brand_Lyf', 'Brand_Meizu',\n       'Brand_Micromax', 'Brand_Mobiistar', 'Brand_Moto', 'Brand_Motorola',\n       'Brand_Nokia', 'Brand_Nubia', 'Brand_OPPO', 'Brand_OnePlus',\n       'Brand_Oppo', 'Brand_Panasonic', 'Brand_Razer', 'Brand_Realme',\n       'Brand_Reliance', 'Brand_Samsung', 'Brand_Sony', 'Brand_Spice',\n       'Brand_Tecno', 'Brand_Ulefone', 'Brand_VOTO', 'Brand_Vivo',\n       'Brand_Xiaomi', 'Brand_Xiaomi Poco', 'Brand_Yu', 'Brand_iVooMi',\n       'SIM 2_2G', 'SIM 2_3G', 'SIM 2_4G', 'SIM 2_Other'],\n      dtype='object')\n",
          "name": "stdout"
        }
      ]
    },
    {
      "metadata": {
        "trusted": true,
        "_uuid": "8ed004968e3d339846437795f52dbcecd5222afa"
      },
      "cell_type": "code",
      "source": "train_new = train_new.merge(train[['PhoneId', 'Rating']], on='PhoneId')",
      "execution_count": 448,
      "outputs": []
    },
    {
      "metadata": {
        "trusted": true,
        "_uuid": "632fb4d1180b367d24361c686c8be3246cc0cdba"
      },
      "cell_type": "code",
      "source": "# check the number of features and data points in train\nprint(\"Number of data points in train: %d\" % train_new.shape[0])\nprint(\"Number of features in train: %d\" % train_new.shape[1])\n\n# check the number of features and data points in test\nprint(\"Number of data points in test: %d\" % test_new.shape[0])\nprint(\"Number of features in test: %d\" % test_new.shape[1])",
      "execution_count": 449,
      "outputs": [
        {
          "output_type": "stream",
          "text": "Number of data points in train: 341\nNumber of features in train: 88\nNumber of data points in test: 119\nNumber of features in test: 87\n",
          "name": "stdout"
        }
      ]
    },
    {
      "metadata": {
        "trusted": true,
        "_uuid": "73a9eef6a22c9988941214024b394c893c66dd9e"
      },
      "cell_type": "code",
      "source": "train_new.head()",
      "execution_count": 450,
      "outputs": [
        {
          "output_type": "execute_result",
          "execution_count": 450,
          "data": {
            "text/plain": "   PhoneId  Height  Processor_frequency   ...    SIM 2_4G  SIM 2_Other  Rating\n0        0   157.9                  1.8   ...           1            0     4.5\n1        1   156.2                  1.8   ...           1            0     4.5\n2        2   157.0                  2.1   ...           1            0     4.4\n3        4   159.8                  2.2   ...           1            0     4.3\n4        5   160.4                  2.2   ...           1            0     4.4\n\n[5 rows x 88 columns]",
            "text/html": "<div>\n<style scoped>\n    .dataframe tbody tr th:only-of-type {\n        vertical-align: middle;\n    }\n\n    .dataframe tbody tr th {\n        vertical-align: top;\n    }\n\n    .dataframe thead th {\n        text-align: right;\n    }\n</style>\n<table border=\"1\" class=\"dataframe\">\n  <thead>\n    <tr style=\"text-align: right;\">\n      <th></th>\n      <th>PhoneId</th>\n      <th>Height</th>\n      <th>Processor_frequency</th>\n      <th>Weight</th>\n      <th>Capacity</th>\n      <th>Resolution</th>\n      <th>Screen Size</th>\n      <th>Screen to Body Ratio (calculated)</th>\n      <th>Pixel Density</th>\n      <th>Internal Memory</th>\n      <th>RAM</th>\n      <th>Sim1_2G</th>\n      <th>Sim1_3G</th>\n      <th>Sim1_4G</th>\n      <th>os_name_Android</th>\n      <th>os_name_Blackberry</th>\n      <th>os_name_KAI</th>\n      <th>os_name_Nokia</th>\n      <th>os_name_Other</th>\n      <th>os_name_Tizen</th>\n      <th>os_name_iOS</th>\n      <th>SIM Slot(s)_Dual SIM, GSM+CDMA</th>\n      <th>SIM Slot(s)_Dual SIM, GSM+GSM</th>\n      <th>SIM Slot(s)_Dual SIM, GSM+GSM, Dual VoLTE</th>\n      <th>SIM Slot(s)_Single SIM, GSM</th>\n      <th>Num_cores_312</th>\n      <th>Num_cores_Deca</th>\n      <th>Num_cores_Dual</th>\n      <th>Num_cores_Hexa</th>\n      <th>Num_cores_Octa</th>\n      <th>Num_cores_Other</th>\n      <th>Num_cores_Quad</th>\n      <th>Num_cores_Tru-Octa</th>\n      <th>Brand_10.or</th>\n      <th>Brand_Apple</th>\n      <th>Brand_Asus</th>\n      <th>Brand_Billion</th>\n      <th>Brand_Blackberry</th>\n      <th>Brand_Comio</th>\n      <th>Brand_Coolpad</th>\n      <th>...</th>\n      <th>Brand_Intex</th>\n      <th>Brand_Itel</th>\n      <th>Brand_Jivi</th>\n      <th>Brand_Karbonn</th>\n      <th>Brand_LG</th>\n      <th>Brand_Lava</th>\n      <th>Brand_LeEco</th>\n      <th>Brand_Lenovo</th>\n      <th>Brand_Lephone</th>\n      <th>Brand_Lyf</th>\n      <th>Brand_Meizu</th>\n      <th>Brand_Micromax</th>\n      <th>Brand_Mobiistar</th>\n      <th>Brand_Moto</th>\n      <th>Brand_Motorola</th>\n      <th>Brand_Nokia</th>\n      <th>Brand_Nubia</th>\n      <th>Brand_OPPO</th>\n      <th>Brand_OnePlus</th>\n      <th>Brand_Oppo</th>\n      <th>Brand_Panasonic</th>\n      <th>Brand_Razer</th>\n      <th>Brand_Realme</th>\n      <th>Brand_Reliance</th>\n      <th>Brand_Samsung</th>\n      <th>Brand_Sony</th>\n      <th>Brand_Spice</th>\n      <th>Brand_Tecno</th>\n      <th>Brand_Ulefone</th>\n      <th>Brand_VOTO</th>\n      <th>Brand_Vivo</th>\n      <th>Brand_Xiaomi</th>\n      <th>Brand_Xiaomi Poco</th>\n      <th>Brand_Yu</th>\n      <th>Brand_iVooMi</th>\n      <th>SIM 2_2G</th>\n      <th>SIM 2_3G</th>\n      <th>SIM 2_4G</th>\n      <th>SIM 2_Other</th>\n      <th>Rating</th>\n    </tr>\n  </thead>\n  <tbody>\n    <tr>\n      <th>0</th>\n      <td>0</td>\n      <td>157.9</td>\n      <td>1.8</td>\n      <td>182</td>\n      <td>4000</td>\n      <td>20</td>\n      <td>6.26</td>\n      <td>80.68</td>\n      <td>403</td>\n      <td>64</td>\n      <td>4</td>\n      <td>0</td>\n      <td>0</td>\n      <td>1</td>\n      <td>1</td>\n      <td>0</td>\n      <td>0</td>\n      <td>0</td>\n      <td>0</td>\n      <td>0</td>\n      <td>0</td>\n      <td>0</td>\n      <td>0</td>\n      <td>1</td>\n      <td>0</td>\n      <td>0</td>\n      <td>0</td>\n      <td>0</td>\n      <td>0</td>\n      <td>1</td>\n      <td>0</td>\n      <td>0</td>\n      <td>0</td>\n      <td>0</td>\n      <td>0</td>\n      <td>0</td>\n      <td>0</td>\n      <td>0</td>\n      <td>0</td>\n      <td>0</td>\n      <td>...</td>\n      <td>0</td>\n      <td>0</td>\n      <td>0</td>\n      <td>0</td>\n      <td>0</td>\n      <td>0</td>\n      <td>0</td>\n      <td>0</td>\n      <td>0</td>\n      <td>0</td>\n      <td>0</td>\n      <td>0</td>\n      <td>0</td>\n      <td>0</td>\n      <td>0</td>\n      <td>0</td>\n      <td>0</td>\n      <td>0</td>\n      <td>0</td>\n      <td>0</td>\n      <td>0</td>\n      <td>0</td>\n      <td>0</td>\n      <td>0</td>\n      <td>0</td>\n      <td>0</td>\n      <td>0</td>\n      <td>0</td>\n      <td>0</td>\n      <td>0</td>\n      <td>0</td>\n      <td>1</td>\n      <td>0</td>\n      <td>0</td>\n      <td>0</td>\n      <td>0</td>\n      <td>0</td>\n      <td>1</td>\n      <td>0</td>\n      <td>4.5</td>\n    </tr>\n    <tr>\n      <th>1</th>\n      <td>1</td>\n      <td>156.2</td>\n      <td>1.8</td>\n      <td>168</td>\n      <td>4230</td>\n      <td>8</td>\n      <td>6.20</td>\n      <td>80.85</td>\n      <td>271</td>\n      <td>32</td>\n      <td>3</td>\n      <td>0</td>\n      <td>0</td>\n      <td>1</td>\n      <td>1</td>\n      <td>0</td>\n      <td>0</td>\n      <td>0</td>\n      <td>0</td>\n      <td>0</td>\n      <td>0</td>\n      <td>0</td>\n      <td>0</td>\n      <td>1</td>\n      <td>0</td>\n      <td>0</td>\n      <td>0</td>\n      <td>0</td>\n      <td>0</td>\n      <td>1</td>\n      <td>0</td>\n      <td>0</td>\n      <td>0</td>\n      <td>0</td>\n      <td>0</td>\n      <td>0</td>\n      <td>0</td>\n      <td>0</td>\n      <td>0</td>\n      <td>0</td>\n      <td>...</td>\n      <td>0</td>\n      <td>0</td>\n      <td>0</td>\n      <td>0</td>\n      <td>0</td>\n      <td>0</td>\n      <td>0</td>\n      <td>0</td>\n      <td>0</td>\n      <td>0</td>\n      <td>0</td>\n      <td>0</td>\n      <td>0</td>\n      <td>0</td>\n      <td>0</td>\n      <td>0</td>\n      <td>0</td>\n      <td>0</td>\n      <td>0</td>\n      <td>0</td>\n      <td>0</td>\n      <td>0</td>\n      <td>1</td>\n      <td>0</td>\n      <td>0</td>\n      <td>0</td>\n      <td>0</td>\n      <td>0</td>\n      <td>0</td>\n      <td>0</td>\n      <td>0</td>\n      <td>0</td>\n      <td>0</td>\n      <td>0</td>\n      <td>0</td>\n      <td>0</td>\n      <td>0</td>\n      <td>1</td>\n      <td>0</td>\n      <td>4.5</td>\n    </tr>\n    <tr>\n      <th>2</th>\n      <td>2</td>\n      <td>157.0</td>\n      <td>2.1</td>\n      <td>168</td>\n      <td>3500</td>\n      <td>25</td>\n      <td>6.30</td>\n      <td>83.68</td>\n      <td>409</td>\n      <td>32</td>\n      <td>3</td>\n      <td>0</td>\n      <td>0</td>\n      <td>1</td>\n      <td>1</td>\n      <td>0</td>\n      <td>0</td>\n      <td>0</td>\n      <td>0</td>\n      <td>0</td>\n      <td>0</td>\n      <td>0</td>\n      <td>0</td>\n      <td>1</td>\n      <td>0</td>\n      <td>0</td>\n      <td>0</td>\n      <td>0</td>\n      <td>0</td>\n      <td>1</td>\n      <td>0</td>\n      <td>0</td>\n      <td>0</td>\n      <td>0</td>\n      <td>0</td>\n      <td>0</td>\n      <td>0</td>\n      <td>0</td>\n      <td>0</td>\n      <td>0</td>\n      <td>...</td>\n      <td>0</td>\n      <td>0</td>\n      <td>0</td>\n      <td>0</td>\n      <td>0</td>\n      <td>0</td>\n      <td>0</td>\n      <td>0</td>\n      <td>0</td>\n      <td>0</td>\n      <td>0</td>\n      <td>0</td>\n      <td>0</td>\n      <td>0</td>\n      <td>0</td>\n      <td>0</td>\n      <td>0</td>\n      <td>0</td>\n      <td>0</td>\n      <td>0</td>\n      <td>0</td>\n      <td>0</td>\n      <td>1</td>\n      <td>0</td>\n      <td>0</td>\n      <td>0</td>\n      <td>0</td>\n      <td>0</td>\n      <td>0</td>\n      <td>0</td>\n      <td>0</td>\n      <td>0</td>\n      <td>0</td>\n      <td>0</td>\n      <td>0</td>\n      <td>0</td>\n      <td>0</td>\n      <td>1</td>\n      <td>0</td>\n      <td>4.4</td>\n    </tr>\n    <tr>\n      <th>3</th>\n      <td>4</td>\n      <td>159.8</td>\n      <td>2.2</td>\n      <td>169</td>\n      <td>3300</td>\n      <td>24</td>\n      <td>6.00</td>\n      <td>74.78</td>\n      <td>411</td>\n      <td>64</td>\n      <td>4</td>\n      <td>0</td>\n      <td>0</td>\n      <td>1</td>\n      <td>1</td>\n      <td>0</td>\n      <td>0</td>\n      <td>0</td>\n      <td>0</td>\n      <td>0</td>\n      <td>0</td>\n      <td>0</td>\n      <td>1</td>\n      <td>0</td>\n      <td>0</td>\n      <td>0</td>\n      <td>0</td>\n      <td>0</td>\n      <td>0</td>\n      <td>1</td>\n      <td>0</td>\n      <td>0</td>\n      <td>0</td>\n      <td>0</td>\n      <td>0</td>\n      <td>0</td>\n      <td>0</td>\n      <td>0</td>\n      <td>0</td>\n      <td>0</td>\n      <td>...</td>\n      <td>0</td>\n      <td>0</td>\n      <td>0</td>\n      <td>0</td>\n      <td>0</td>\n      <td>0</td>\n      <td>0</td>\n      <td>0</td>\n      <td>0</td>\n      <td>0</td>\n      <td>0</td>\n      <td>0</td>\n      <td>0</td>\n      <td>0</td>\n      <td>0</td>\n      <td>0</td>\n      <td>0</td>\n      <td>0</td>\n      <td>0</td>\n      <td>0</td>\n      <td>0</td>\n      <td>0</td>\n      <td>0</td>\n      <td>0</td>\n      <td>1</td>\n      <td>0</td>\n      <td>0</td>\n      <td>0</td>\n      <td>0</td>\n      <td>0</td>\n      <td>0</td>\n      <td>0</td>\n      <td>0</td>\n      <td>0</td>\n      <td>0</td>\n      <td>0</td>\n      <td>0</td>\n      <td>1</td>\n      <td>0</td>\n      <td>4.3</td>\n    </tr>\n    <tr>\n      <th>4</th>\n      <td>5</td>\n      <td>160.4</td>\n      <td>2.2</td>\n      <td>175</td>\n      <td>3750</td>\n      <td>16</td>\n      <td>6.50</td>\n      <td>84.23</td>\n      <td>396</td>\n      <td>64</td>\n      <td>4</td>\n      <td>0</td>\n      <td>0</td>\n      <td>1</td>\n      <td>1</td>\n      <td>0</td>\n      <td>0</td>\n      <td>0</td>\n      <td>0</td>\n      <td>0</td>\n      <td>0</td>\n      <td>0</td>\n      <td>0</td>\n      <td>1</td>\n      <td>0</td>\n      <td>0</td>\n      <td>0</td>\n      <td>0</td>\n      <td>0</td>\n      <td>1</td>\n      <td>0</td>\n      <td>0</td>\n      <td>0</td>\n      <td>0</td>\n      <td>0</td>\n      <td>0</td>\n      <td>0</td>\n      <td>0</td>\n      <td>0</td>\n      <td>0</td>\n      <td>...</td>\n      <td>0</td>\n      <td>0</td>\n      <td>0</td>\n      <td>0</td>\n      <td>0</td>\n      <td>0</td>\n      <td>0</td>\n      <td>0</td>\n      <td>0</td>\n      <td>0</td>\n      <td>0</td>\n      <td>0</td>\n      <td>0</td>\n      <td>0</td>\n      <td>0</td>\n      <td>0</td>\n      <td>0</td>\n      <td>0</td>\n      <td>0</td>\n      <td>0</td>\n      <td>0</td>\n      <td>0</td>\n      <td>0</td>\n      <td>0</td>\n      <td>0</td>\n      <td>0</td>\n      <td>0</td>\n      <td>0</td>\n      <td>0</td>\n      <td>0</td>\n      <td>0</td>\n      <td>0</td>\n      <td>0</td>\n      <td>0</td>\n      <td>0</td>\n      <td>0</td>\n      <td>0</td>\n      <td>1</td>\n      <td>0</td>\n      <td>4.4</td>\n    </tr>\n  </tbody>\n</table>\n</div>"
          },
          "metadata": {}
        }
      ]
    },
    {
      "metadata": {
        "trusted": true,
        "_uuid": "cc8de801826943bc22bf8221297052f1126716bc"
      },
      "cell_type": "code",
      "source": "test_new.head()",
      "execution_count": 451,
      "outputs": [
        {
          "output_type": "execute_result",
          "execution_count": 451,
          "data": {
            "text/plain": "   PhoneId  Height     ...       SIM 2_4G  SIM 2_Other\n0        3   156.2     ...              1            0\n1       11   156.0     ...              1            0\n2       13   156.7     ...              1            0\n3       16   156.7     ...              1            0\n4       19   158.6     ...              1            0\n\n[5 rows x 87 columns]",
            "text/html": "<div>\n<style scoped>\n    .dataframe tbody tr th:only-of-type {\n        vertical-align: middle;\n    }\n\n    .dataframe tbody tr th {\n        vertical-align: top;\n    }\n\n    .dataframe thead th {\n        text-align: right;\n    }\n</style>\n<table border=\"1\" class=\"dataframe\">\n  <thead>\n    <tr style=\"text-align: right;\">\n      <th></th>\n      <th>PhoneId</th>\n      <th>Height</th>\n      <th>Processor_frequency</th>\n      <th>Weight</th>\n      <th>Capacity</th>\n      <th>Resolution</th>\n      <th>Screen Size</th>\n      <th>Screen to Body Ratio (calculated)</th>\n      <th>Pixel Density</th>\n      <th>Internal Memory</th>\n      <th>RAM</th>\n      <th>Sim1_2G</th>\n      <th>Sim1_3G</th>\n      <th>Sim1_4G</th>\n      <th>os_name_Android</th>\n      <th>os_name_Blackberry</th>\n      <th>os_name_KAI</th>\n      <th>os_name_Nokia</th>\n      <th>os_name_Other</th>\n      <th>os_name_Tizen</th>\n      <th>os_name_iOS</th>\n      <th>SIM Slot(s)_Dual SIM, GSM+CDMA</th>\n      <th>SIM Slot(s)_Dual SIM, GSM+GSM</th>\n      <th>SIM Slot(s)_Dual SIM, GSM+GSM, Dual VoLTE</th>\n      <th>SIM Slot(s)_Single SIM, GSM</th>\n      <th>Num_cores_312</th>\n      <th>Num_cores_Deca</th>\n      <th>Num_cores_Dual</th>\n      <th>Num_cores_Hexa</th>\n      <th>Num_cores_Octa</th>\n      <th>Num_cores_Other</th>\n      <th>Num_cores_Quad</th>\n      <th>Num_cores_Tru-Octa</th>\n      <th>Brand_10.or</th>\n      <th>Brand_Apple</th>\n      <th>Brand_Asus</th>\n      <th>Brand_Billion</th>\n      <th>Brand_Blackberry</th>\n      <th>Brand_Comio</th>\n      <th>Brand_Coolpad</th>\n      <th>...</th>\n      <th>Brand_Infinix</th>\n      <th>Brand_Intex</th>\n      <th>Brand_Itel</th>\n      <th>Brand_Jivi</th>\n      <th>Brand_Karbonn</th>\n      <th>Brand_LG</th>\n      <th>Brand_Lava</th>\n      <th>Brand_LeEco</th>\n      <th>Brand_Lenovo</th>\n      <th>Brand_Lephone</th>\n      <th>Brand_Lyf</th>\n      <th>Brand_Meizu</th>\n      <th>Brand_Micromax</th>\n      <th>Brand_Mobiistar</th>\n      <th>Brand_Moto</th>\n      <th>Brand_Motorola</th>\n      <th>Brand_Nokia</th>\n      <th>Brand_Nubia</th>\n      <th>Brand_OPPO</th>\n      <th>Brand_OnePlus</th>\n      <th>Brand_Oppo</th>\n      <th>Brand_Panasonic</th>\n      <th>Brand_Razer</th>\n      <th>Brand_Realme</th>\n      <th>Brand_Reliance</th>\n      <th>Brand_Samsung</th>\n      <th>Brand_Sony</th>\n      <th>Brand_Spice</th>\n      <th>Brand_Tecno</th>\n      <th>Brand_Ulefone</th>\n      <th>Brand_VOTO</th>\n      <th>Brand_Vivo</th>\n      <th>Brand_Xiaomi</th>\n      <th>Brand_Xiaomi Poco</th>\n      <th>Brand_Yu</th>\n      <th>Brand_iVooMi</th>\n      <th>SIM 2_2G</th>\n      <th>SIM 2_3G</th>\n      <th>SIM 2_4G</th>\n      <th>SIM 2_Other</th>\n    </tr>\n  </thead>\n  <tbody>\n    <tr>\n      <th>0</th>\n      <td>3</td>\n      <td>156.2</td>\n      <td>1.8</td>\n      <td>168</td>\n      <td>4230</td>\n      <td>5</td>\n      <td>6.20</td>\n      <td>80.85</td>\n      <td>271</td>\n      <td>16</td>\n      <td>2</td>\n      <td>0</td>\n      <td>0</td>\n      <td>1</td>\n      <td>1</td>\n      <td>0</td>\n      <td>0</td>\n      <td>0</td>\n      <td>0</td>\n      <td>0</td>\n      <td>0</td>\n      <td>0</td>\n      <td>0</td>\n      <td>1</td>\n      <td>0</td>\n      <td>0</td>\n      <td>0</td>\n      <td>0</td>\n      <td>0</td>\n      <td>1</td>\n      <td>0</td>\n      <td>0</td>\n      <td>0</td>\n      <td>0</td>\n      <td>0</td>\n      <td>0</td>\n      <td>0</td>\n      <td>0</td>\n      <td>0</td>\n      <td>0</td>\n      <td>...</td>\n      <td>0</td>\n      <td>0</td>\n      <td>0</td>\n      <td>0</td>\n      <td>0</td>\n      <td>0</td>\n      <td>0</td>\n      <td>0</td>\n      <td>0</td>\n      <td>0</td>\n      <td>0</td>\n      <td>0</td>\n      <td>0</td>\n      <td>0</td>\n      <td>0</td>\n      <td>0</td>\n      <td>0</td>\n      <td>0</td>\n      <td>0</td>\n      <td>0</td>\n      <td>0</td>\n      <td>0</td>\n      <td>0</td>\n      <td>1</td>\n      <td>0</td>\n      <td>0</td>\n      <td>0</td>\n      <td>0</td>\n      <td>0</td>\n      <td>0</td>\n      <td>0</td>\n      <td>0</td>\n      <td>0</td>\n      <td>0</td>\n      <td>0</td>\n      <td>0</td>\n      <td>0</td>\n      <td>0</td>\n      <td>1</td>\n      <td>0</td>\n    </tr>\n    <tr>\n      <th>1</th>\n      <td>11</td>\n      <td>156.0</td>\n      <td>1.8</td>\n      <td>205</td>\n      <td>5000</td>\n      <td>12</td>\n      <td>6.20</td>\n      <td>81.60</td>\n      <td>402</td>\n      <td>64</td>\n      <td>4</td>\n      <td>0</td>\n      <td>0</td>\n      <td>1</td>\n      <td>1</td>\n      <td>0</td>\n      <td>0</td>\n      <td>0</td>\n      <td>0</td>\n      <td>0</td>\n      <td>0</td>\n      <td>0</td>\n      <td>0</td>\n      <td>1</td>\n      <td>0</td>\n      <td>0</td>\n      <td>0</td>\n      <td>0</td>\n      <td>0</td>\n      <td>1</td>\n      <td>0</td>\n      <td>0</td>\n      <td>0</td>\n      <td>0</td>\n      <td>0</td>\n      <td>0</td>\n      <td>0</td>\n      <td>0</td>\n      <td>0</td>\n      <td>0</td>\n      <td>...</td>\n      <td>0</td>\n      <td>0</td>\n      <td>0</td>\n      <td>0</td>\n      <td>0</td>\n      <td>0</td>\n      <td>0</td>\n      <td>0</td>\n      <td>0</td>\n      <td>0</td>\n      <td>0</td>\n      <td>0</td>\n      <td>0</td>\n      <td>0</td>\n      <td>0</td>\n      <td>1</td>\n      <td>0</td>\n      <td>0</td>\n      <td>0</td>\n      <td>0</td>\n      <td>0</td>\n      <td>0</td>\n      <td>0</td>\n      <td>0</td>\n      <td>0</td>\n      <td>0</td>\n      <td>0</td>\n      <td>0</td>\n      <td>0</td>\n      <td>0</td>\n      <td>0</td>\n      <td>0</td>\n      <td>0</td>\n      <td>0</td>\n      <td>0</td>\n      <td>0</td>\n      <td>0</td>\n      <td>0</td>\n      <td>1</td>\n      <td>0</td>\n    </tr>\n    <tr>\n      <th>2</th>\n      <td>13</td>\n      <td>156.7</td>\n      <td>2.0</td>\n      <td>169</td>\n      <td>3500</td>\n      <td>25</td>\n      <td>6.30</td>\n      <td>83.84</td>\n      <td>409</td>\n      <td>64</td>\n      <td>6</td>\n      <td>0</td>\n      <td>0</td>\n      <td>1</td>\n      <td>1</td>\n      <td>0</td>\n      <td>0</td>\n      <td>0</td>\n      <td>0</td>\n      <td>0</td>\n      <td>0</td>\n      <td>0</td>\n      <td>0</td>\n      <td>1</td>\n      <td>0</td>\n      <td>0</td>\n      <td>0</td>\n      <td>0</td>\n      <td>0</td>\n      <td>1</td>\n      <td>0</td>\n      <td>0</td>\n      <td>0</td>\n      <td>0</td>\n      <td>0</td>\n      <td>0</td>\n      <td>0</td>\n      <td>0</td>\n      <td>0</td>\n      <td>0</td>\n      <td>...</td>\n      <td>0</td>\n      <td>0</td>\n      <td>0</td>\n      <td>0</td>\n      <td>0</td>\n      <td>0</td>\n      <td>0</td>\n      <td>0</td>\n      <td>0</td>\n      <td>0</td>\n      <td>0</td>\n      <td>0</td>\n      <td>0</td>\n      <td>0</td>\n      <td>0</td>\n      <td>0</td>\n      <td>0</td>\n      <td>0</td>\n      <td>1</td>\n      <td>0</td>\n      <td>0</td>\n      <td>0</td>\n      <td>0</td>\n      <td>0</td>\n      <td>0</td>\n      <td>0</td>\n      <td>0</td>\n      <td>0</td>\n      <td>0</td>\n      <td>0</td>\n      <td>0</td>\n      <td>0</td>\n      <td>0</td>\n      <td>0</td>\n      <td>0</td>\n      <td>0</td>\n      <td>0</td>\n      <td>0</td>\n      <td>1</td>\n      <td>0</td>\n    </tr>\n    <tr>\n      <th>3</th>\n      <td>16</td>\n      <td>156.7</td>\n      <td>2.0</td>\n      <td>169</td>\n      <td>3500</td>\n      <td>16</td>\n      <td>6.30</td>\n      <td>83.84</td>\n      <td>409</td>\n      <td>64</td>\n      <td>4</td>\n      <td>0</td>\n      <td>0</td>\n      <td>1</td>\n      <td>1</td>\n      <td>0</td>\n      <td>0</td>\n      <td>0</td>\n      <td>0</td>\n      <td>0</td>\n      <td>0</td>\n      <td>0</td>\n      <td>0</td>\n      <td>1</td>\n      <td>0</td>\n      <td>0</td>\n      <td>0</td>\n      <td>0</td>\n      <td>0</td>\n      <td>1</td>\n      <td>0</td>\n      <td>0</td>\n      <td>0</td>\n      <td>0</td>\n      <td>0</td>\n      <td>0</td>\n      <td>0</td>\n      <td>0</td>\n      <td>0</td>\n      <td>0</td>\n      <td>...</td>\n      <td>0</td>\n      <td>0</td>\n      <td>0</td>\n      <td>0</td>\n      <td>0</td>\n      <td>0</td>\n      <td>0</td>\n      <td>0</td>\n      <td>0</td>\n      <td>0</td>\n      <td>0</td>\n      <td>0</td>\n      <td>0</td>\n      <td>0</td>\n      <td>0</td>\n      <td>0</td>\n      <td>0</td>\n      <td>0</td>\n      <td>1</td>\n      <td>0</td>\n      <td>0</td>\n      <td>0</td>\n      <td>0</td>\n      <td>0</td>\n      <td>0</td>\n      <td>0</td>\n      <td>0</td>\n      <td>0</td>\n      <td>0</td>\n      <td>0</td>\n      <td>0</td>\n      <td>0</td>\n      <td>0</td>\n      <td>0</td>\n      <td>0</td>\n      <td>0</td>\n      <td>0</td>\n      <td>0</td>\n      <td>1</td>\n      <td>0</td>\n    </tr>\n    <tr>\n      <th>4</th>\n      <td>19</td>\n      <td>158.6</td>\n      <td>1.8</td>\n      <td>181</td>\n      <td>4000</td>\n      <td>20</td>\n      <td>5.99</td>\n      <td>77.43</td>\n      <td>403</td>\n      <td>64</td>\n      <td>4</td>\n      <td>0</td>\n      <td>0</td>\n      <td>1</td>\n      <td>1</td>\n      <td>0</td>\n      <td>0</td>\n      <td>0</td>\n      <td>0</td>\n      <td>0</td>\n      <td>0</td>\n      <td>0</td>\n      <td>0</td>\n      <td>1</td>\n      <td>0</td>\n      <td>0</td>\n      <td>0</td>\n      <td>0</td>\n      <td>0</td>\n      <td>1</td>\n      <td>0</td>\n      <td>0</td>\n      <td>0</td>\n      <td>0</td>\n      <td>0</td>\n      <td>0</td>\n      <td>0</td>\n      <td>0</td>\n      <td>0</td>\n      <td>0</td>\n      <td>...</td>\n      <td>0</td>\n      <td>0</td>\n      <td>0</td>\n      <td>0</td>\n      <td>0</td>\n      <td>0</td>\n      <td>0</td>\n      <td>0</td>\n      <td>0</td>\n      <td>0</td>\n      <td>0</td>\n      <td>0</td>\n      <td>0</td>\n      <td>0</td>\n      <td>0</td>\n      <td>0</td>\n      <td>0</td>\n      <td>0</td>\n      <td>0</td>\n      <td>0</td>\n      <td>0</td>\n      <td>0</td>\n      <td>0</td>\n      <td>0</td>\n      <td>0</td>\n      <td>0</td>\n      <td>0</td>\n      <td>0</td>\n      <td>0</td>\n      <td>0</td>\n      <td>0</td>\n      <td>0</td>\n      <td>1</td>\n      <td>0</td>\n      <td>0</td>\n      <td>0</td>\n      <td>0</td>\n      <td>0</td>\n      <td>1</td>\n      <td>0</td>\n    </tr>\n  </tbody>\n</table>\n</div>"
          },
          "metadata": {}
        }
      ]
    },
    {
      "metadata": {
        "trusted": true,
        "_uuid": "314e340abb65dc41a48dff8acf5adddf35bad56e"
      },
      "cell_type": "code",
      "source": "print(train_new.mean())",
      "execution_count": 452,
      "outputs": [
        {
          "output_type": "stream",
          "text": "PhoneId                                       232.970674\nHeight                                        149.946394\nProcessor_frequency                             1.792551\nWeight                                        161.343109\nCapacity                                     3191.307918\nResolution                                      9.592375\nScreen Size                                     5.462317\nScreen to Body Ratio (calculated)              72.353343\nPixel Density                                 344.211144\nInternal Memory                                46.369501\nRAM                                            11.120235\nSim1_2G                                         0.020528\nSim1_3G                                         0.020528\nSim1_4G                                         0.958944\nos_name_Android                                 0.906158\nos_name_Blackberry                              0.005865\nos_name_KAI                                     0.005865\nos_name_Nokia                                   0.002933\nos_name_Other                                   0.020528\nos_name_Tizen                                   0.002933\nos_name_iOS                                     0.055718\nSIM Slot(s)_Dual SIM, GSM+CDMA                  0.002933\nSIM Slot(s)_Dual SIM, GSM+GSM                   0.759531\nSIM Slot(s)_Dual SIM, GSM+GSM, Dual VoLTE       0.152493\nSIM Slot(s)_Single SIM, GSM                     0.085044\nNum_cores_312                                   0.002933\nNum_cores_Deca                                  0.005865\nNum_cores_Dual                                  0.029326\nNum_cores_Hexa                                  0.035191\nNum_cores_Octa                                  0.580645\n                                                ...     \nBrand_Meizu                                     0.005865\nBrand_Micromax                                  0.043988\nBrand_Mobiistar                                 0.011730\nBrand_Moto                                      0.043988\nBrand_Motorola                                  0.005865\nBrand_Nokia                                     0.061584\nBrand_Nubia                                     0.002933\nBrand_OPPO                                      0.041056\nBrand_OnePlus                                   0.008798\nBrand_Oppo                                      0.017595\nBrand_Panasonic                                 0.011730\nBrand_Razer                                     0.002933\nBrand_Realme                                    0.011730\nBrand_Reliance                                  0.002933\nBrand_Samsung                                   0.129032\nBrand_Sony                                      0.026393\nBrand_Spice                                     0.000000\nBrand_Tecno                                     0.023460\nBrand_Ulefone                                   0.002933\nBrand_VOTO                                      0.002933\nBrand_Vivo                                      0.076246\nBrand_Xiaomi                                    0.061584\nBrand_Xiaomi Poco                               0.008798\nBrand_Yu                                        0.011730\nBrand_iVooMi                                    0.002933\nSIM 2_2G                                        0.211144\nSIM 2_3G                                        0.020528\nSIM 2_4G                                        0.683284\nSIM 2_Other                                     0.085044\nRating                                          4.072434\nLength: 88, dtype: float64\n",
          "name": "stdout"
        }
      ]
    },
    {
      "metadata": {
        "trusted": true,
        "_uuid": "3d4919f9c67c18723a396e448a7cfdb94f9e062f"
      },
      "cell_type": "code",
      "source": "print(test_new.mean())",
      "execution_count": 453,
      "outputs": [
        {
          "output_type": "stream",
          "text": "PhoneId                                       240.176471\nHeight                                        150.277679\nProcessor_frequency                             1.768403\nWeight                                        164.000000\nCapacity                                     3233.764706\nResolution                                      9.294118\nScreen Size                                     5.463445\nScreen to Body Ratio (calculated)              71.955630\nPixel Density                                 334.731092\nInternal Memory                                48.336134\nRAM                                            11.983193\nSim1_2G                                         0.025210\nSim1_3G                                         0.042017\nSim1_4G                                         0.932773\nos_name_Android                                 0.957983\nos_name_Blackberry                              0.000000\nos_name_KAI                                     0.000000\nos_name_Nokia                                   0.000000\nos_name_Other                                   0.033613\nos_name_Tizen                                   0.000000\nos_name_iOS                                     0.008403\nSIM Slot(s)_Dual SIM, GSM+CDMA                  0.000000\nSIM Slot(s)_Dual SIM, GSM+GSM                   0.789916\nSIM Slot(s)_Dual SIM, GSM+GSM, Dual VoLTE       0.184874\nSIM Slot(s)_Single SIM, GSM                     0.025210\nNum_cores_312                                   0.000000\nNum_cores_Deca                                  0.000000\nNum_cores_Dual                                  0.016807\nNum_cores_Hexa                                  0.008403\nNum_cores_Octa                                  0.630252\n                                                ...     \nBrand_Lyf                                       0.008403\nBrand_Meizu                                     0.000000\nBrand_Micromax                                  0.042017\nBrand_Mobiistar                                 0.016807\nBrand_Moto                                      0.042017\nBrand_Motorola                                  0.008403\nBrand_Nokia                                     0.033613\nBrand_Nubia                                     0.000000\nBrand_OPPO                                      0.050420\nBrand_OnePlus                                   0.016807\nBrand_Oppo                                      0.025210\nBrand_Panasonic                                 0.033613\nBrand_Razer                                     0.000000\nBrand_Realme                                    0.008403\nBrand_Reliance                                  0.000000\nBrand_Samsung                                   0.184874\nBrand_Sony                                      0.008403\nBrand_Spice                                     0.008403\nBrand_Tecno                                     0.016807\nBrand_Ulefone                                   0.000000\nBrand_VOTO                                      0.008403\nBrand_Vivo                                      0.067227\nBrand_Xiaomi                                    0.058824\nBrand_Xiaomi Poco                               0.008403\nBrand_Yu                                        0.000000\nBrand_iVooMi                                    0.000000\nSIM 2_2G                                        0.235294\nSIM 2_3G                                        0.025210\nSIM 2_4G                                        0.714286\nSIM 2_Other                                     0.025210\nLength: 87, dtype: float64\n",
          "name": "stdout"
        }
      ]
    },
    {
      "metadata": {
        "trusted": true,
        "_uuid": "9cc343b3fb4aa0d1c778807738e6c162b2a81179"
      },
      "cell_type": "code",
      "source": "type(test_new)",
      "execution_count": 454,
      "outputs": [
        {
          "output_type": "execute_result",
          "execution_count": 454,
          "data": {
            "text/plain": "pandas.core.frame.DataFrame"
          },
          "metadata": {}
        }
      ]
    },
    {
      "metadata": {
        "_uuid": "6982b90f900ca3fb92314b0c17e897d2405f7ca0"
      },
      "cell_type": "markdown",
      "source": "## Dummy Solution"
    },
    {
      "metadata": {
        "trusted": true,
        "_uuid": "b311507aaee61065a9ac403745cfe96d815ab5e7"
      },
      "cell_type": "code",
      "source": "mobile_X_train = train_new.drop(['PhoneId','Rating'], axis=1)",
      "execution_count": 455,
      "outputs": []
    },
    {
      "metadata": {
        "trusted": true,
        "_uuid": "aecf34514f477c5d211c77f351d6384e19498fc9"
      },
      "cell_type": "code",
      "source": "mobile_X_train.shape[0]",
      "execution_count": 456,
      "outputs": [
        {
          "output_type": "execute_result",
          "execution_count": 456,
          "data": {
            "text/plain": "341"
          },
          "metadata": {}
        }
      ]
    },
    {
      "metadata": {
        "trusted": true,
        "_uuid": "f1b4a61693b14dc49d3c9509626cb1ed6d37ddeb"
      },
      "cell_type": "code",
      "source": "mobile_X_train_IDs = train_new['PhoneId']",
      "execution_count": 457,
      "outputs": []
    },
    {
      "metadata": {
        "trusted": true,
        "_uuid": "bb4beead15bc00b2aa0c4d5c55cb411ee405854c"
      },
      "cell_type": "code",
      "source": "mobile_Y_train = train_new['Rating']",
      "execution_count": 458,
      "outputs": []
    },
    {
      "metadata": {
        "trusted": true,
        "_uuid": "9bd957b7aecb77569a10bb0dc40d2739db8b809b"
      },
      "cell_type": "code",
      "source": "print(mobile_Y_train.values)",
      "execution_count": 459,
      "outputs": [
        {
          "output_type": "stream",
          "text": "[4.5 4.5 4.4 4.3 4.4 4.5 4.3 4.1 4.3 4.5 4.5 4.  4.4 4.4 4.4 4.4 4.5 4.4\n 4.4 4.4 4.4 4.5 4.4 4.3 4.2 4.3 4.3 4.6 4.4 4.5 3.9 4.2 4.3 4.2 4.3 4.3\n 4.2 4.4 4.1 3.8 4.4 4.6 4.3 4.5 4.5 4.2 3.9 4.3 4.  4.3 4.3 3.9 4.2 4.5\n 4.  4.6 4.2 2.8 4.4 4.3 4.2 4.4 4.4 4.  4.4 4.4 4.1 4.5 4.3 3.9 4.3 4.1\n 4.1 4.2 3.4 4.2 4.6 3.8 4.3 4.5 4.2 4.5 4.5 4.  4.1 4.4 4.5 4.1 4.5 4.3\n 4.5 3.9 3.9 4.4 4.4 4.4 4.  4.1 4.1 4.4 4.3 4.3 4.2 4.3 3.4 4.3 4.3 4.2\n 4.6 4.8 4.4 3.4 3.7 4.2 4.3 4.4 4.3 4.2 4.1 4.3 4.  3.9 4.4 4.4 3.9 3.1\n 3.7 4.2 4.4 4.  4.  4.1 4.2 4.3 4.2 4.3 4.1 3.6 4.1 4.  3.8 3.7 4.3 4.1\n 4.1 4.5 4.  4.3 3.6 4.1 4.5 3.5 4.  4.3 4.6 3.5 3.9 4.1 3.9 3.8 4.4 4.3\n 4.  3.9 4.4 4.7 3.9 4.5 3.7 4.  4.3 4.1 4.8 4.1 4.  4.7 4.  4.1 4.  3.4\n 4.1 3.9 3.1 4.1 3.7 3.4 3.9 4.3 4.1 3.7 3.8 4.  3.8 4.6 3.4 3.3 3.2 3.5\n 4.3 4.1 4.  3.8 4.3 4.1 4.  3.8 3.8 3.9 4.1 3.7 4.2 4.  4.2 4.4 4.1 3.4\n 4.2 4.4 3.9 3.9 4.4 4.2 4.5 4.5 4.2 4.  4.2 3.5 3.7 4.3 5.  3.5 4.4 3.7\n 4.3 3.9 4.3 3.8 3.8 4.3 5.  4.1 3.  4.4 3.  4.  4.  3.9 3.9 4.2 2.8 4.3\n 3.3 4.3 4.  4.2 4.1 4.2 3.6 3.5 4.1 4.6 3.9 4.  3.8 4.1 2.5 4.2 3.7 3.9\n 4.1 3.  3.8 4.6 4.2 3.4 3.9 4.5 4.1 3.3 4.1 4.  3.3 4.4 3.8 3.9 3.6 4.4\n 4.1 4.1 4.  3.5 3.  4.2 4.  3.9 3.5 3.4 3.4 4.  3.6 4.  3.5 4.  4.  3.7\n 4.6 4.  4.1 4.  3.5 4.1 3.7 4.4 4.3 4.1 3.9 3.4 3.3 3.9 4.  4.4 4.5 4.2\n 3.8 3.7 4.2 4.1 4.  3.9 3.7 4.2 4.  3.6 3.6 4.4 3.8 3.9 4.1 3.6 4.3]\n",
          "name": "stdout"
        }
      ]
    },
    {
      "metadata": {
        "trusted": true,
        "_uuid": "964677a62d5ef84222fcf8ff787713538d2ad49d"
      },
      "cell_type": "code",
      "source": "mobile_Y_train.shape[0]",
      "execution_count": 460,
      "outputs": [
        {
          "output_type": "execute_result",
          "execution_count": 460,
          "data": {
            "text/plain": "341"
          },
          "metadata": {}
        }
      ]
    },
    {
      "metadata": {
        "trusted": true,
        "_uuid": "9b126bcbf26aa6149c3c074604decd9bba1b1286"
      },
      "cell_type": "code",
      "source": "mobile_X_train.head()",
      "execution_count": 461,
      "outputs": [
        {
          "output_type": "execute_result",
          "execution_count": 461,
          "data": {
            "text/plain": "   Height  Processor_frequency     ...       SIM 2_4G  SIM 2_Other\n0   157.9                  1.8     ...              1            0\n1   156.2                  1.8     ...              1            0\n2   157.0                  2.1     ...              1            0\n3   159.8                  2.2     ...              1            0\n4   160.4                  2.2     ...              1            0\n\n[5 rows x 86 columns]",
            "text/html": "<div>\n<style scoped>\n    .dataframe tbody tr th:only-of-type {\n        vertical-align: middle;\n    }\n\n    .dataframe tbody tr th {\n        vertical-align: top;\n    }\n\n    .dataframe thead th {\n        text-align: right;\n    }\n</style>\n<table border=\"1\" class=\"dataframe\">\n  <thead>\n    <tr style=\"text-align: right;\">\n      <th></th>\n      <th>Height</th>\n      <th>Processor_frequency</th>\n      <th>Weight</th>\n      <th>Capacity</th>\n      <th>Resolution</th>\n      <th>Screen Size</th>\n      <th>Screen to Body Ratio (calculated)</th>\n      <th>Pixel Density</th>\n      <th>Internal Memory</th>\n      <th>RAM</th>\n      <th>Sim1_2G</th>\n      <th>Sim1_3G</th>\n      <th>Sim1_4G</th>\n      <th>os_name_Android</th>\n      <th>os_name_Blackberry</th>\n      <th>os_name_KAI</th>\n      <th>os_name_Nokia</th>\n      <th>os_name_Other</th>\n      <th>os_name_Tizen</th>\n      <th>os_name_iOS</th>\n      <th>SIM Slot(s)_Dual SIM, GSM+CDMA</th>\n      <th>SIM Slot(s)_Dual SIM, GSM+GSM</th>\n      <th>SIM Slot(s)_Dual SIM, GSM+GSM, Dual VoLTE</th>\n      <th>SIM Slot(s)_Single SIM, GSM</th>\n      <th>Num_cores_312</th>\n      <th>Num_cores_Deca</th>\n      <th>Num_cores_Dual</th>\n      <th>Num_cores_Hexa</th>\n      <th>Num_cores_Octa</th>\n      <th>Num_cores_Other</th>\n      <th>Num_cores_Quad</th>\n      <th>Num_cores_Tru-Octa</th>\n      <th>Brand_10.or</th>\n      <th>Brand_Apple</th>\n      <th>Brand_Asus</th>\n      <th>Brand_Billion</th>\n      <th>Brand_Blackberry</th>\n      <th>Brand_Comio</th>\n      <th>Brand_Coolpad</th>\n      <th>Brand_Do</th>\n      <th>...</th>\n      <th>Brand_Infinix</th>\n      <th>Brand_Intex</th>\n      <th>Brand_Itel</th>\n      <th>Brand_Jivi</th>\n      <th>Brand_Karbonn</th>\n      <th>Brand_LG</th>\n      <th>Brand_Lava</th>\n      <th>Brand_LeEco</th>\n      <th>Brand_Lenovo</th>\n      <th>Brand_Lephone</th>\n      <th>Brand_Lyf</th>\n      <th>Brand_Meizu</th>\n      <th>Brand_Micromax</th>\n      <th>Brand_Mobiistar</th>\n      <th>Brand_Moto</th>\n      <th>Brand_Motorola</th>\n      <th>Brand_Nokia</th>\n      <th>Brand_Nubia</th>\n      <th>Brand_OPPO</th>\n      <th>Brand_OnePlus</th>\n      <th>Brand_Oppo</th>\n      <th>Brand_Panasonic</th>\n      <th>Brand_Razer</th>\n      <th>Brand_Realme</th>\n      <th>Brand_Reliance</th>\n      <th>Brand_Samsung</th>\n      <th>Brand_Sony</th>\n      <th>Brand_Spice</th>\n      <th>Brand_Tecno</th>\n      <th>Brand_Ulefone</th>\n      <th>Brand_VOTO</th>\n      <th>Brand_Vivo</th>\n      <th>Brand_Xiaomi</th>\n      <th>Brand_Xiaomi Poco</th>\n      <th>Brand_Yu</th>\n      <th>Brand_iVooMi</th>\n      <th>SIM 2_2G</th>\n      <th>SIM 2_3G</th>\n      <th>SIM 2_4G</th>\n      <th>SIM 2_Other</th>\n    </tr>\n  </thead>\n  <tbody>\n    <tr>\n      <th>0</th>\n      <td>157.9</td>\n      <td>1.8</td>\n      <td>182</td>\n      <td>4000</td>\n      <td>20</td>\n      <td>6.26</td>\n      <td>80.68</td>\n      <td>403</td>\n      <td>64</td>\n      <td>4</td>\n      <td>0</td>\n      <td>0</td>\n      <td>1</td>\n      <td>1</td>\n      <td>0</td>\n      <td>0</td>\n      <td>0</td>\n      <td>0</td>\n      <td>0</td>\n      <td>0</td>\n      <td>0</td>\n      <td>0</td>\n      <td>1</td>\n      <td>0</td>\n      <td>0</td>\n      <td>0</td>\n      <td>0</td>\n      <td>0</td>\n      <td>1</td>\n      <td>0</td>\n      <td>0</td>\n      <td>0</td>\n      <td>0</td>\n      <td>0</td>\n      <td>0</td>\n      <td>0</td>\n      <td>0</td>\n      <td>0</td>\n      <td>0</td>\n      <td>0</td>\n      <td>...</td>\n      <td>0</td>\n      <td>0</td>\n      <td>0</td>\n      <td>0</td>\n      <td>0</td>\n      <td>0</td>\n      <td>0</td>\n      <td>0</td>\n      <td>0</td>\n      <td>0</td>\n      <td>0</td>\n      <td>0</td>\n      <td>0</td>\n      <td>0</td>\n      <td>0</td>\n      <td>0</td>\n      <td>0</td>\n      <td>0</td>\n      <td>0</td>\n      <td>0</td>\n      <td>0</td>\n      <td>0</td>\n      <td>0</td>\n      <td>0</td>\n      <td>0</td>\n      <td>0</td>\n      <td>0</td>\n      <td>0</td>\n      <td>0</td>\n      <td>0</td>\n      <td>0</td>\n      <td>0</td>\n      <td>1</td>\n      <td>0</td>\n      <td>0</td>\n      <td>0</td>\n      <td>0</td>\n      <td>0</td>\n      <td>1</td>\n      <td>0</td>\n    </tr>\n    <tr>\n      <th>1</th>\n      <td>156.2</td>\n      <td>1.8</td>\n      <td>168</td>\n      <td>4230</td>\n      <td>8</td>\n      <td>6.20</td>\n      <td>80.85</td>\n      <td>271</td>\n      <td>32</td>\n      <td>3</td>\n      <td>0</td>\n      <td>0</td>\n      <td>1</td>\n      <td>1</td>\n      <td>0</td>\n      <td>0</td>\n      <td>0</td>\n      <td>0</td>\n      <td>0</td>\n      <td>0</td>\n      <td>0</td>\n      <td>0</td>\n      <td>1</td>\n      <td>0</td>\n      <td>0</td>\n      <td>0</td>\n      <td>0</td>\n      <td>0</td>\n      <td>1</td>\n      <td>0</td>\n      <td>0</td>\n      <td>0</td>\n      <td>0</td>\n      <td>0</td>\n      <td>0</td>\n      <td>0</td>\n      <td>0</td>\n      <td>0</td>\n      <td>0</td>\n      <td>0</td>\n      <td>...</td>\n      <td>0</td>\n      <td>0</td>\n      <td>0</td>\n      <td>0</td>\n      <td>0</td>\n      <td>0</td>\n      <td>0</td>\n      <td>0</td>\n      <td>0</td>\n      <td>0</td>\n      <td>0</td>\n      <td>0</td>\n      <td>0</td>\n      <td>0</td>\n      <td>0</td>\n      <td>0</td>\n      <td>0</td>\n      <td>0</td>\n      <td>0</td>\n      <td>0</td>\n      <td>0</td>\n      <td>0</td>\n      <td>0</td>\n      <td>1</td>\n      <td>0</td>\n      <td>0</td>\n      <td>0</td>\n      <td>0</td>\n      <td>0</td>\n      <td>0</td>\n      <td>0</td>\n      <td>0</td>\n      <td>0</td>\n      <td>0</td>\n      <td>0</td>\n      <td>0</td>\n      <td>0</td>\n      <td>0</td>\n      <td>1</td>\n      <td>0</td>\n    </tr>\n    <tr>\n      <th>2</th>\n      <td>157.0</td>\n      <td>2.1</td>\n      <td>168</td>\n      <td>3500</td>\n      <td>25</td>\n      <td>6.30</td>\n      <td>83.68</td>\n      <td>409</td>\n      <td>32</td>\n      <td>3</td>\n      <td>0</td>\n      <td>0</td>\n      <td>1</td>\n      <td>1</td>\n      <td>0</td>\n      <td>0</td>\n      <td>0</td>\n      <td>0</td>\n      <td>0</td>\n      <td>0</td>\n      <td>0</td>\n      <td>0</td>\n      <td>1</td>\n      <td>0</td>\n      <td>0</td>\n      <td>0</td>\n      <td>0</td>\n      <td>0</td>\n      <td>1</td>\n      <td>0</td>\n      <td>0</td>\n      <td>0</td>\n      <td>0</td>\n      <td>0</td>\n      <td>0</td>\n      <td>0</td>\n      <td>0</td>\n      <td>0</td>\n      <td>0</td>\n      <td>0</td>\n      <td>...</td>\n      <td>0</td>\n      <td>0</td>\n      <td>0</td>\n      <td>0</td>\n      <td>0</td>\n      <td>0</td>\n      <td>0</td>\n      <td>0</td>\n      <td>0</td>\n      <td>0</td>\n      <td>0</td>\n      <td>0</td>\n      <td>0</td>\n      <td>0</td>\n      <td>0</td>\n      <td>0</td>\n      <td>0</td>\n      <td>0</td>\n      <td>0</td>\n      <td>0</td>\n      <td>0</td>\n      <td>0</td>\n      <td>0</td>\n      <td>1</td>\n      <td>0</td>\n      <td>0</td>\n      <td>0</td>\n      <td>0</td>\n      <td>0</td>\n      <td>0</td>\n      <td>0</td>\n      <td>0</td>\n      <td>0</td>\n      <td>0</td>\n      <td>0</td>\n      <td>0</td>\n      <td>0</td>\n      <td>0</td>\n      <td>1</td>\n      <td>0</td>\n    </tr>\n    <tr>\n      <th>3</th>\n      <td>159.8</td>\n      <td>2.2</td>\n      <td>169</td>\n      <td>3300</td>\n      <td>24</td>\n      <td>6.00</td>\n      <td>74.78</td>\n      <td>411</td>\n      <td>64</td>\n      <td>4</td>\n      <td>0</td>\n      <td>0</td>\n      <td>1</td>\n      <td>1</td>\n      <td>0</td>\n      <td>0</td>\n      <td>0</td>\n      <td>0</td>\n      <td>0</td>\n      <td>0</td>\n      <td>0</td>\n      <td>1</td>\n      <td>0</td>\n      <td>0</td>\n      <td>0</td>\n      <td>0</td>\n      <td>0</td>\n      <td>0</td>\n      <td>1</td>\n      <td>0</td>\n      <td>0</td>\n      <td>0</td>\n      <td>0</td>\n      <td>0</td>\n      <td>0</td>\n      <td>0</td>\n      <td>0</td>\n      <td>0</td>\n      <td>0</td>\n      <td>0</td>\n      <td>...</td>\n      <td>0</td>\n      <td>0</td>\n      <td>0</td>\n      <td>0</td>\n      <td>0</td>\n      <td>0</td>\n      <td>0</td>\n      <td>0</td>\n      <td>0</td>\n      <td>0</td>\n      <td>0</td>\n      <td>0</td>\n      <td>0</td>\n      <td>0</td>\n      <td>0</td>\n      <td>0</td>\n      <td>0</td>\n      <td>0</td>\n      <td>0</td>\n      <td>0</td>\n      <td>0</td>\n      <td>0</td>\n      <td>0</td>\n      <td>0</td>\n      <td>0</td>\n      <td>1</td>\n      <td>0</td>\n      <td>0</td>\n      <td>0</td>\n      <td>0</td>\n      <td>0</td>\n      <td>0</td>\n      <td>0</td>\n      <td>0</td>\n      <td>0</td>\n      <td>0</td>\n      <td>0</td>\n      <td>0</td>\n      <td>1</td>\n      <td>0</td>\n    </tr>\n    <tr>\n      <th>4</th>\n      <td>160.4</td>\n      <td>2.2</td>\n      <td>175</td>\n      <td>3750</td>\n      <td>16</td>\n      <td>6.50</td>\n      <td>84.23</td>\n      <td>396</td>\n      <td>64</td>\n      <td>4</td>\n      <td>0</td>\n      <td>0</td>\n      <td>1</td>\n      <td>1</td>\n      <td>0</td>\n      <td>0</td>\n      <td>0</td>\n      <td>0</td>\n      <td>0</td>\n      <td>0</td>\n      <td>0</td>\n      <td>0</td>\n      <td>1</td>\n      <td>0</td>\n      <td>0</td>\n      <td>0</td>\n      <td>0</td>\n      <td>0</td>\n      <td>1</td>\n      <td>0</td>\n      <td>0</td>\n      <td>0</td>\n      <td>0</td>\n      <td>0</td>\n      <td>0</td>\n      <td>0</td>\n      <td>0</td>\n      <td>0</td>\n      <td>0</td>\n      <td>0</td>\n      <td>...</td>\n      <td>0</td>\n      <td>0</td>\n      <td>0</td>\n      <td>0</td>\n      <td>0</td>\n      <td>0</td>\n      <td>0</td>\n      <td>0</td>\n      <td>0</td>\n      <td>0</td>\n      <td>0</td>\n      <td>0</td>\n      <td>0</td>\n      <td>0</td>\n      <td>0</td>\n      <td>0</td>\n      <td>0</td>\n      <td>0</td>\n      <td>0</td>\n      <td>0</td>\n      <td>0</td>\n      <td>0</td>\n      <td>0</td>\n      <td>0</td>\n      <td>0</td>\n      <td>0</td>\n      <td>0</td>\n      <td>0</td>\n      <td>0</td>\n      <td>0</td>\n      <td>0</td>\n      <td>0</td>\n      <td>0</td>\n      <td>0</td>\n      <td>0</td>\n      <td>0</td>\n      <td>0</td>\n      <td>0</td>\n      <td>1</td>\n      <td>0</td>\n    </tr>\n  </tbody>\n</table>\n</div>"
          },
          "metadata": {}
        }
      ]
    },
    {
      "metadata": {
        "trusted": true,
        "_uuid": "8ae27b85f355cfbdd51231587c71d51575d2dd33"
      },
      "cell_type": "code",
      "source": "mobile_X_test = test_new.drop('PhoneId', axis=1)",
      "execution_count": 462,
      "outputs": []
    },
    {
      "metadata": {
        "trusted": true,
        "_uuid": "800055b43962ca8a689fa4eb68ef9ee237c472a5"
      },
      "cell_type": "code",
      "source": "mobile_X_test_IDs = test_new['PhoneId']",
      "execution_count": 463,
      "outputs": []
    },
    {
      "metadata": {
        "trusted": true,
        "_uuid": "929c6dfc9aaa4447553a55e3544bce4f4c681fce"
      },
      "cell_type": "code",
      "source": "mobile_X_train_binarized = mobile_X_train.apply(pd.cut, bins=2, labels=[0,1])",
      "execution_count": 464,
      "outputs": []
    },
    {
      "metadata": {
        "trusted": true,
        "_uuid": "fe49aa4317ef7f8b5459766e1aa510b9e5f1caed"
      },
      "cell_type": "code",
      "source": "mobile_X_train_binarized.head()",
      "execution_count": 465,
      "outputs": [
        {
          "output_type": "execute_result",
          "execution_count": 465,
          "data": {
            "text/plain": "  Height Processor_frequency Weight     ...     SIM 2_3G SIM 2_4G SIM 2_Other\n0      1                   0      0     ...            0        1           0\n1      1                   0      0     ...            0        1           0\n2      1                   1      0     ...            0        1           0\n3      1                   1      0     ...            0        1           0\n4      1                   1      0     ...            0        1           0\n\n[5 rows x 86 columns]",
            "text/html": "<div>\n<style scoped>\n    .dataframe tbody tr th:only-of-type {\n        vertical-align: middle;\n    }\n\n    .dataframe tbody tr th {\n        vertical-align: top;\n    }\n\n    .dataframe thead th {\n        text-align: right;\n    }\n</style>\n<table border=\"1\" class=\"dataframe\">\n  <thead>\n    <tr style=\"text-align: right;\">\n      <th></th>\n      <th>Height</th>\n      <th>Processor_frequency</th>\n      <th>Weight</th>\n      <th>Capacity</th>\n      <th>Resolution</th>\n      <th>Screen Size</th>\n      <th>Screen to Body Ratio (calculated)</th>\n      <th>Pixel Density</th>\n      <th>Internal Memory</th>\n      <th>RAM</th>\n      <th>Sim1_2G</th>\n      <th>Sim1_3G</th>\n      <th>Sim1_4G</th>\n      <th>os_name_Android</th>\n      <th>os_name_Blackberry</th>\n      <th>os_name_KAI</th>\n      <th>os_name_Nokia</th>\n      <th>os_name_Other</th>\n      <th>os_name_Tizen</th>\n      <th>os_name_iOS</th>\n      <th>SIM Slot(s)_Dual SIM, GSM+CDMA</th>\n      <th>SIM Slot(s)_Dual SIM, GSM+GSM</th>\n      <th>SIM Slot(s)_Dual SIM, GSM+GSM, Dual VoLTE</th>\n      <th>SIM Slot(s)_Single SIM, GSM</th>\n      <th>Num_cores_312</th>\n      <th>Num_cores_Deca</th>\n      <th>Num_cores_Dual</th>\n      <th>Num_cores_Hexa</th>\n      <th>Num_cores_Octa</th>\n      <th>Num_cores_Other</th>\n      <th>Num_cores_Quad</th>\n      <th>Num_cores_Tru-Octa</th>\n      <th>Brand_10.or</th>\n      <th>Brand_Apple</th>\n      <th>Brand_Asus</th>\n      <th>Brand_Billion</th>\n      <th>Brand_Blackberry</th>\n      <th>Brand_Comio</th>\n      <th>Brand_Coolpad</th>\n      <th>Brand_Do</th>\n      <th>...</th>\n      <th>Brand_Infinix</th>\n      <th>Brand_Intex</th>\n      <th>Brand_Itel</th>\n      <th>Brand_Jivi</th>\n      <th>Brand_Karbonn</th>\n      <th>Brand_LG</th>\n      <th>Brand_Lava</th>\n      <th>Brand_LeEco</th>\n      <th>Brand_Lenovo</th>\n      <th>Brand_Lephone</th>\n      <th>Brand_Lyf</th>\n      <th>Brand_Meizu</th>\n      <th>Brand_Micromax</th>\n      <th>Brand_Mobiistar</th>\n      <th>Brand_Moto</th>\n      <th>Brand_Motorola</th>\n      <th>Brand_Nokia</th>\n      <th>Brand_Nubia</th>\n      <th>Brand_OPPO</th>\n      <th>Brand_OnePlus</th>\n      <th>Brand_Oppo</th>\n      <th>Brand_Panasonic</th>\n      <th>Brand_Razer</th>\n      <th>Brand_Realme</th>\n      <th>Brand_Reliance</th>\n      <th>Brand_Samsung</th>\n      <th>Brand_Sony</th>\n      <th>Brand_Spice</th>\n      <th>Brand_Tecno</th>\n      <th>Brand_Ulefone</th>\n      <th>Brand_VOTO</th>\n      <th>Brand_Vivo</th>\n      <th>Brand_Xiaomi</th>\n      <th>Brand_Xiaomi Poco</th>\n      <th>Brand_Yu</th>\n      <th>Brand_iVooMi</th>\n      <th>SIM 2_2G</th>\n      <th>SIM 2_3G</th>\n      <th>SIM 2_4G</th>\n      <th>SIM 2_Other</th>\n    </tr>\n  </thead>\n  <tbody>\n    <tr>\n      <th>0</th>\n      <td>1</td>\n      <td>0</td>\n      <td>0</td>\n      <td>0</td>\n      <td>1</td>\n      <td>1</td>\n      <td>1</td>\n      <td>1</td>\n      <td>0</td>\n      <td>0</td>\n      <td>0</td>\n      <td>0</td>\n      <td>1</td>\n      <td>1</td>\n      <td>0</td>\n      <td>0</td>\n      <td>0</td>\n      <td>0</td>\n      <td>0</td>\n      <td>0</td>\n      <td>0</td>\n      <td>0</td>\n      <td>1</td>\n      <td>0</td>\n      <td>0</td>\n      <td>0</td>\n      <td>0</td>\n      <td>0</td>\n      <td>1</td>\n      <td>0</td>\n      <td>0</td>\n      <td>0</td>\n      <td>0</td>\n      <td>0</td>\n      <td>0</td>\n      <td>0</td>\n      <td>0</td>\n      <td>0</td>\n      <td>0</td>\n      <td>0</td>\n      <td>...</td>\n      <td>0</td>\n      <td>0</td>\n      <td>0</td>\n      <td>0</td>\n      <td>0</td>\n      <td>0</td>\n      <td>0</td>\n      <td>0</td>\n      <td>0</td>\n      <td>0</td>\n      <td>0</td>\n      <td>0</td>\n      <td>0</td>\n      <td>0</td>\n      <td>0</td>\n      <td>0</td>\n      <td>0</td>\n      <td>0</td>\n      <td>0</td>\n      <td>0</td>\n      <td>0</td>\n      <td>0</td>\n      <td>0</td>\n      <td>0</td>\n      <td>0</td>\n      <td>0</td>\n      <td>0</td>\n      <td>0</td>\n      <td>0</td>\n      <td>0</td>\n      <td>0</td>\n      <td>0</td>\n      <td>1</td>\n      <td>0</td>\n      <td>0</td>\n      <td>0</td>\n      <td>0</td>\n      <td>0</td>\n      <td>1</td>\n      <td>0</td>\n    </tr>\n    <tr>\n      <th>1</th>\n      <td>1</td>\n      <td>0</td>\n      <td>0</td>\n      <td>0</td>\n      <td>0</td>\n      <td>1</td>\n      <td>1</td>\n      <td>0</td>\n      <td>0</td>\n      <td>0</td>\n      <td>0</td>\n      <td>0</td>\n      <td>1</td>\n      <td>1</td>\n      <td>0</td>\n      <td>0</td>\n      <td>0</td>\n      <td>0</td>\n      <td>0</td>\n      <td>0</td>\n      <td>0</td>\n      <td>0</td>\n      <td>1</td>\n      <td>0</td>\n      <td>0</td>\n      <td>0</td>\n      <td>0</td>\n      <td>0</td>\n      <td>1</td>\n      <td>0</td>\n      <td>0</td>\n      <td>0</td>\n      <td>0</td>\n      <td>0</td>\n      <td>0</td>\n      <td>0</td>\n      <td>0</td>\n      <td>0</td>\n      <td>0</td>\n      <td>0</td>\n      <td>...</td>\n      <td>0</td>\n      <td>0</td>\n      <td>0</td>\n      <td>0</td>\n      <td>0</td>\n      <td>0</td>\n      <td>0</td>\n      <td>0</td>\n      <td>0</td>\n      <td>0</td>\n      <td>0</td>\n      <td>0</td>\n      <td>0</td>\n      <td>0</td>\n      <td>0</td>\n      <td>0</td>\n      <td>0</td>\n      <td>0</td>\n      <td>0</td>\n      <td>0</td>\n      <td>0</td>\n      <td>0</td>\n      <td>0</td>\n      <td>1</td>\n      <td>0</td>\n      <td>0</td>\n      <td>0</td>\n      <td>0</td>\n      <td>0</td>\n      <td>0</td>\n      <td>0</td>\n      <td>0</td>\n      <td>0</td>\n      <td>0</td>\n      <td>0</td>\n      <td>0</td>\n      <td>0</td>\n      <td>0</td>\n      <td>1</td>\n      <td>0</td>\n    </tr>\n    <tr>\n      <th>2</th>\n      <td>1</td>\n      <td>1</td>\n      <td>0</td>\n      <td>0</td>\n      <td>1</td>\n      <td>1</td>\n      <td>1</td>\n      <td>1</td>\n      <td>0</td>\n      <td>0</td>\n      <td>0</td>\n      <td>0</td>\n      <td>1</td>\n      <td>1</td>\n      <td>0</td>\n      <td>0</td>\n      <td>0</td>\n      <td>0</td>\n      <td>0</td>\n      <td>0</td>\n      <td>0</td>\n      <td>0</td>\n      <td>1</td>\n      <td>0</td>\n      <td>0</td>\n      <td>0</td>\n      <td>0</td>\n      <td>0</td>\n      <td>1</td>\n      <td>0</td>\n      <td>0</td>\n      <td>0</td>\n      <td>0</td>\n      <td>0</td>\n      <td>0</td>\n      <td>0</td>\n      <td>0</td>\n      <td>0</td>\n      <td>0</td>\n      <td>0</td>\n      <td>...</td>\n      <td>0</td>\n      <td>0</td>\n      <td>0</td>\n      <td>0</td>\n      <td>0</td>\n      <td>0</td>\n      <td>0</td>\n      <td>0</td>\n      <td>0</td>\n      <td>0</td>\n      <td>0</td>\n      <td>0</td>\n      <td>0</td>\n      <td>0</td>\n      <td>0</td>\n      <td>0</td>\n      <td>0</td>\n      <td>0</td>\n      <td>0</td>\n      <td>0</td>\n      <td>0</td>\n      <td>0</td>\n      <td>0</td>\n      <td>1</td>\n      <td>0</td>\n      <td>0</td>\n      <td>0</td>\n      <td>0</td>\n      <td>0</td>\n      <td>0</td>\n      <td>0</td>\n      <td>0</td>\n      <td>0</td>\n      <td>0</td>\n      <td>0</td>\n      <td>0</td>\n      <td>0</td>\n      <td>0</td>\n      <td>1</td>\n      <td>0</td>\n    </tr>\n    <tr>\n      <th>3</th>\n      <td>1</td>\n      <td>1</td>\n      <td>0</td>\n      <td>0</td>\n      <td>1</td>\n      <td>1</td>\n      <td>1</td>\n      <td>1</td>\n      <td>0</td>\n      <td>0</td>\n      <td>0</td>\n      <td>0</td>\n      <td>1</td>\n      <td>1</td>\n      <td>0</td>\n      <td>0</td>\n      <td>0</td>\n      <td>0</td>\n      <td>0</td>\n      <td>0</td>\n      <td>0</td>\n      <td>1</td>\n      <td>0</td>\n      <td>0</td>\n      <td>0</td>\n      <td>0</td>\n      <td>0</td>\n      <td>0</td>\n      <td>1</td>\n      <td>0</td>\n      <td>0</td>\n      <td>0</td>\n      <td>0</td>\n      <td>0</td>\n      <td>0</td>\n      <td>0</td>\n      <td>0</td>\n      <td>0</td>\n      <td>0</td>\n      <td>0</td>\n      <td>...</td>\n      <td>0</td>\n      <td>0</td>\n      <td>0</td>\n      <td>0</td>\n      <td>0</td>\n      <td>0</td>\n      <td>0</td>\n      <td>0</td>\n      <td>0</td>\n      <td>0</td>\n      <td>0</td>\n      <td>0</td>\n      <td>0</td>\n      <td>0</td>\n      <td>0</td>\n      <td>0</td>\n      <td>0</td>\n      <td>0</td>\n      <td>0</td>\n      <td>0</td>\n      <td>0</td>\n      <td>0</td>\n      <td>0</td>\n      <td>0</td>\n      <td>0</td>\n      <td>1</td>\n      <td>0</td>\n      <td>0</td>\n      <td>0</td>\n      <td>0</td>\n      <td>0</td>\n      <td>0</td>\n      <td>0</td>\n      <td>0</td>\n      <td>0</td>\n      <td>0</td>\n      <td>0</td>\n      <td>0</td>\n      <td>1</td>\n      <td>0</td>\n    </tr>\n    <tr>\n      <th>4</th>\n      <td>1</td>\n      <td>1</td>\n      <td>0</td>\n      <td>0</td>\n      <td>1</td>\n      <td>1</td>\n      <td>1</td>\n      <td>1</td>\n      <td>0</td>\n      <td>0</td>\n      <td>0</td>\n      <td>0</td>\n      <td>1</td>\n      <td>1</td>\n      <td>0</td>\n      <td>0</td>\n      <td>0</td>\n      <td>0</td>\n      <td>0</td>\n      <td>0</td>\n      <td>0</td>\n      <td>0</td>\n      <td>1</td>\n      <td>0</td>\n      <td>0</td>\n      <td>0</td>\n      <td>0</td>\n      <td>0</td>\n      <td>1</td>\n      <td>0</td>\n      <td>0</td>\n      <td>0</td>\n      <td>0</td>\n      <td>0</td>\n      <td>0</td>\n      <td>0</td>\n      <td>0</td>\n      <td>0</td>\n      <td>0</td>\n      <td>0</td>\n      <td>...</td>\n      <td>0</td>\n      <td>0</td>\n      <td>0</td>\n      <td>0</td>\n      <td>0</td>\n      <td>0</td>\n      <td>0</td>\n      <td>0</td>\n      <td>0</td>\n      <td>0</td>\n      <td>0</td>\n      <td>0</td>\n      <td>0</td>\n      <td>0</td>\n      <td>0</td>\n      <td>0</td>\n      <td>0</td>\n      <td>0</td>\n      <td>0</td>\n      <td>0</td>\n      <td>0</td>\n      <td>0</td>\n      <td>0</td>\n      <td>0</td>\n      <td>0</td>\n      <td>0</td>\n      <td>0</td>\n      <td>0</td>\n      <td>0</td>\n      <td>0</td>\n      <td>0</td>\n      <td>0</td>\n      <td>0</td>\n      <td>0</td>\n      <td>0</td>\n      <td>0</td>\n      <td>0</td>\n      <td>0</td>\n      <td>1</td>\n      <td>0</td>\n    </tr>\n  </tbody>\n</table>\n</div>"
          },
          "metadata": {}
        }
      ]
    },
    {
      "metadata": {
        "trusted": true,
        "_uuid": "0e65e0a2287fb9d35f07c4d45a18589002e4fbe9"
      },
      "cell_type": "code",
      "source": "mobile_X_test_binarized = mobile_X_test.apply(pd.cut, bins=2, labels=[0,1])",
      "execution_count": 466,
      "outputs": []
    },
    {
      "metadata": {
        "trusted": true,
        "_uuid": "0c26f9af3678fccfb7c8b97e83640a8c6735304d"
      },
      "cell_type": "code",
      "source": "mobile_X_test_binarized.head()",
      "execution_count": 467,
      "outputs": [
        {
          "output_type": "execute_result",
          "execution_count": 467,
          "data": {
            "text/plain": "  Height Processor_frequency Weight     ...     SIM 2_3G SIM 2_4G SIM 2_Other\n0      1                   0      1     ...            0        1           0\n1      1                   0      1     ...            0        1           0\n2      1                   0      1     ...            0        1           0\n3      1                   0      1     ...            0        1           0\n4      1                   0      1     ...            0        1           0\n\n[5 rows x 86 columns]",
            "text/html": "<div>\n<style scoped>\n    .dataframe tbody tr th:only-of-type {\n        vertical-align: middle;\n    }\n\n    .dataframe tbody tr th {\n        vertical-align: top;\n    }\n\n    .dataframe thead th {\n        text-align: right;\n    }\n</style>\n<table border=\"1\" class=\"dataframe\">\n  <thead>\n    <tr style=\"text-align: right;\">\n      <th></th>\n      <th>Height</th>\n      <th>Processor_frequency</th>\n      <th>Weight</th>\n      <th>Capacity</th>\n      <th>Resolution</th>\n      <th>Screen Size</th>\n      <th>Screen to Body Ratio (calculated)</th>\n      <th>Pixel Density</th>\n      <th>Internal Memory</th>\n      <th>RAM</th>\n      <th>Sim1_2G</th>\n      <th>Sim1_3G</th>\n      <th>Sim1_4G</th>\n      <th>os_name_Android</th>\n      <th>os_name_Blackberry</th>\n      <th>os_name_KAI</th>\n      <th>os_name_Nokia</th>\n      <th>os_name_Other</th>\n      <th>os_name_Tizen</th>\n      <th>os_name_iOS</th>\n      <th>SIM Slot(s)_Dual SIM, GSM+CDMA</th>\n      <th>SIM Slot(s)_Dual SIM, GSM+GSM</th>\n      <th>SIM Slot(s)_Dual SIM, GSM+GSM, Dual VoLTE</th>\n      <th>SIM Slot(s)_Single SIM, GSM</th>\n      <th>Num_cores_312</th>\n      <th>Num_cores_Deca</th>\n      <th>Num_cores_Dual</th>\n      <th>Num_cores_Hexa</th>\n      <th>Num_cores_Octa</th>\n      <th>Num_cores_Other</th>\n      <th>Num_cores_Quad</th>\n      <th>Num_cores_Tru-Octa</th>\n      <th>Brand_10.or</th>\n      <th>Brand_Apple</th>\n      <th>Brand_Asus</th>\n      <th>Brand_Billion</th>\n      <th>Brand_Blackberry</th>\n      <th>Brand_Comio</th>\n      <th>Brand_Coolpad</th>\n      <th>Brand_Do</th>\n      <th>...</th>\n      <th>Brand_Infinix</th>\n      <th>Brand_Intex</th>\n      <th>Brand_Itel</th>\n      <th>Brand_Jivi</th>\n      <th>Brand_Karbonn</th>\n      <th>Brand_LG</th>\n      <th>Brand_Lava</th>\n      <th>Brand_LeEco</th>\n      <th>Brand_Lenovo</th>\n      <th>Brand_Lephone</th>\n      <th>Brand_Lyf</th>\n      <th>Brand_Meizu</th>\n      <th>Brand_Micromax</th>\n      <th>Brand_Mobiistar</th>\n      <th>Brand_Moto</th>\n      <th>Brand_Motorola</th>\n      <th>Brand_Nokia</th>\n      <th>Brand_Nubia</th>\n      <th>Brand_OPPO</th>\n      <th>Brand_OnePlus</th>\n      <th>Brand_Oppo</th>\n      <th>Brand_Panasonic</th>\n      <th>Brand_Razer</th>\n      <th>Brand_Realme</th>\n      <th>Brand_Reliance</th>\n      <th>Brand_Samsung</th>\n      <th>Brand_Sony</th>\n      <th>Brand_Spice</th>\n      <th>Brand_Tecno</th>\n      <th>Brand_Ulefone</th>\n      <th>Brand_VOTO</th>\n      <th>Brand_Vivo</th>\n      <th>Brand_Xiaomi</th>\n      <th>Brand_Xiaomi Poco</th>\n      <th>Brand_Yu</th>\n      <th>Brand_iVooMi</th>\n      <th>SIM 2_2G</th>\n      <th>SIM 2_3G</th>\n      <th>SIM 2_4G</th>\n      <th>SIM 2_Other</th>\n    </tr>\n  </thead>\n  <tbody>\n    <tr>\n      <th>0</th>\n      <td>1</td>\n      <td>0</td>\n      <td>1</td>\n      <td>1</td>\n      <td>0</td>\n      <td>1</td>\n      <td>1</td>\n      <td>0</td>\n      <td>0</td>\n      <td>0</td>\n      <td>0</td>\n      <td>0</td>\n      <td>1</td>\n      <td>1</td>\n      <td>0</td>\n      <td>0</td>\n      <td>0</td>\n      <td>0</td>\n      <td>0</td>\n      <td>0</td>\n      <td>0</td>\n      <td>0</td>\n      <td>1</td>\n      <td>0</td>\n      <td>0</td>\n      <td>0</td>\n      <td>0</td>\n      <td>0</td>\n      <td>1</td>\n      <td>0</td>\n      <td>0</td>\n      <td>0</td>\n      <td>0</td>\n      <td>0</td>\n      <td>0</td>\n      <td>0</td>\n      <td>0</td>\n      <td>0</td>\n      <td>0</td>\n      <td>0</td>\n      <td>...</td>\n      <td>0</td>\n      <td>0</td>\n      <td>0</td>\n      <td>0</td>\n      <td>0</td>\n      <td>0</td>\n      <td>0</td>\n      <td>0</td>\n      <td>0</td>\n      <td>0</td>\n      <td>0</td>\n      <td>0</td>\n      <td>0</td>\n      <td>0</td>\n      <td>0</td>\n      <td>0</td>\n      <td>0</td>\n      <td>0</td>\n      <td>0</td>\n      <td>0</td>\n      <td>0</td>\n      <td>0</td>\n      <td>0</td>\n      <td>1</td>\n      <td>0</td>\n      <td>0</td>\n      <td>0</td>\n      <td>0</td>\n      <td>0</td>\n      <td>0</td>\n      <td>0</td>\n      <td>0</td>\n      <td>0</td>\n      <td>0</td>\n      <td>0</td>\n      <td>0</td>\n      <td>0</td>\n      <td>0</td>\n      <td>1</td>\n      <td>0</td>\n    </tr>\n    <tr>\n      <th>1</th>\n      <td>1</td>\n      <td>0</td>\n      <td>1</td>\n      <td>1</td>\n      <td>0</td>\n      <td>1</td>\n      <td>1</td>\n      <td>0</td>\n      <td>0</td>\n      <td>0</td>\n      <td>0</td>\n      <td>0</td>\n      <td>1</td>\n      <td>1</td>\n      <td>0</td>\n      <td>0</td>\n      <td>0</td>\n      <td>0</td>\n      <td>0</td>\n      <td>0</td>\n      <td>0</td>\n      <td>0</td>\n      <td>1</td>\n      <td>0</td>\n      <td>0</td>\n      <td>0</td>\n      <td>0</td>\n      <td>0</td>\n      <td>1</td>\n      <td>0</td>\n      <td>0</td>\n      <td>0</td>\n      <td>0</td>\n      <td>0</td>\n      <td>0</td>\n      <td>0</td>\n      <td>0</td>\n      <td>0</td>\n      <td>0</td>\n      <td>0</td>\n      <td>...</td>\n      <td>0</td>\n      <td>0</td>\n      <td>0</td>\n      <td>0</td>\n      <td>0</td>\n      <td>0</td>\n      <td>0</td>\n      <td>0</td>\n      <td>0</td>\n      <td>0</td>\n      <td>0</td>\n      <td>0</td>\n      <td>0</td>\n      <td>0</td>\n      <td>0</td>\n      <td>1</td>\n      <td>0</td>\n      <td>0</td>\n      <td>0</td>\n      <td>0</td>\n      <td>0</td>\n      <td>0</td>\n      <td>0</td>\n      <td>0</td>\n      <td>0</td>\n      <td>0</td>\n      <td>0</td>\n      <td>0</td>\n      <td>0</td>\n      <td>0</td>\n      <td>0</td>\n      <td>0</td>\n      <td>0</td>\n      <td>0</td>\n      <td>0</td>\n      <td>0</td>\n      <td>0</td>\n      <td>0</td>\n      <td>1</td>\n      <td>0</td>\n    </tr>\n    <tr>\n      <th>2</th>\n      <td>1</td>\n      <td>0</td>\n      <td>1</td>\n      <td>1</td>\n      <td>1</td>\n      <td>1</td>\n      <td>1</td>\n      <td>0</td>\n      <td>0</td>\n      <td>0</td>\n      <td>0</td>\n      <td>0</td>\n      <td>1</td>\n      <td>1</td>\n      <td>0</td>\n      <td>0</td>\n      <td>0</td>\n      <td>0</td>\n      <td>0</td>\n      <td>0</td>\n      <td>0</td>\n      <td>0</td>\n      <td>1</td>\n      <td>0</td>\n      <td>0</td>\n      <td>0</td>\n      <td>0</td>\n      <td>0</td>\n      <td>1</td>\n      <td>0</td>\n      <td>0</td>\n      <td>0</td>\n      <td>0</td>\n      <td>0</td>\n      <td>0</td>\n      <td>0</td>\n      <td>0</td>\n      <td>0</td>\n      <td>0</td>\n      <td>0</td>\n      <td>...</td>\n      <td>0</td>\n      <td>0</td>\n      <td>0</td>\n      <td>0</td>\n      <td>0</td>\n      <td>0</td>\n      <td>0</td>\n      <td>0</td>\n      <td>0</td>\n      <td>0</td>\n      <td>0</td>\n      <td>0</td>\n      <td>0</td>\n      <td>0</td>\n      <td>0</td>\n      <td>0</td>\n      <td>0</td>\n      <td>0</td>\n      <td>1</td>\n      <td>0</td>\n      <td>0</td>\n      <td>0</td>\n      <td>0</td>\n      <td>0</td>\n      <td>0</td>\n      <td>0</td>\n      <td>0</td>\n      <td>0</td>\n      <td>0</td>\n      <td>0</td>\n      <td>0</td>\n      <td>0</td>\n      <td>0</td>\n      <td>0</td>\n      <td>0</td>\n      <td>0</td>\n      <td>0</td>\n      <td>0</td>\n      <td>1</td>\n      <td>0</td>\n    </tr>\n    <tr>\n      <th>3</th>\n      <td>1</td>\n      <td>0</td>\n      <td>1</td>\n      <td>1</td>\n      <td>1</td>\n      <td>1</td>\n      <td>1</td>\n      <td>0</td>\n      <td>0</td>\n      <td>0</td>\n      <td>0</td>\n      <td>0</td>\n      <td>1</td>\n      <td>1</td>\n      <td>0</td>\n      <td>0</td>\n      <td>0</td>\n      <td>0</td>\n      <td>0</td>\n      <td>0</td>\n      <td>0</td>\n      <td>0</td>\n      <td>1</td>\n      <td>0</td>\n      <td>0</td>\n      <td>0</td>\n      <td>0</td>\n      <td>0</td>\n      <td>1</td>\n      <td>0</td>\n      <td>0</td>\n      <td>0</td>\n      <td>0</td>\n      <td>0</td>\n      <td>0</td>\n      <td>0</td>\n      <td>0</td>\n      <td>0</td>\n      <td>0</td>\n      <td>0</td>\n      <td>...</td>\n      <td>0</td>\n      <td>0</td>\n      <td>0</td>\n      <td>0</td>\n      <td>0</td>\n      <td>0</td>\n      <td>0</td>\n      <td>0</td>\n      <td>0</td>\n      <td>0</td>\n      <td>0</td>\n      <td>0</td>\n      <td>0</td>\n      <td>0</td>\n      <td>0</td>\n      <td>0</td>\n      <td>0</td>\n      <td>0</td>\n      <td>1</td>\n      <td>0</td>\n      <td>0</td>\n      <td>0</td>\n      <td>0</td>\n      <td>0</td>\n      <td>0</td>\n      <td>0</td>\n      <td>0</td>\n      <td>0</td>\n      <td>0</td>\n      <td>0</td>\n      <td>0</td>\n      <td>0</td>\n      <td>0</td>\n      <td>0</td>\n      <td>0</td>\n      <td>0</td>\n      <td>0</td>\n      <td>0</td>\n      <td>1</td>\n      <td>0</td>\n    </tr>\n    <tr>\n      <th>4</th>\n      <td>1</td>\n      <td>0</td>\n      <td>1</td>\n      <td>1</td>\n      <td>1</td>\n      <td>1</td>\n      <td>1</td>\n      <td>0</td>\n      <td>0</td>\n      <td>0</td>\n      <td>0</td>\n      <td>0</td>\n      <td>1</td>\n      <td>1</td>\n      <td>0</td>\n      <td>0</td>\n      <td>0</td>\n      <td>0</td>\n      <td>0</td>\n      <td>0</td>\n      <td>0</td>\n      <td>0</td>\n      <td>1</td>\n      <td>0</td>\n      <td>0</td>\n      <td>0</td>\n      <td>0</td>\n      <td>0</td>\n      <td>1</td>\n      <td>0</td>\n      <td>0</td>\n      <td>0</td>\n      <td>0</td>\n      <td>0</td>\n      <td>0</td>\n      <td>0</td>\n      <td>0</td>\n      <td>0</td>\n      <td>0</td>\n      <td>0</td>\n      <td>...</td>\n      <td>0</td>\n      <td>0</td>\n      <td>0</td>\n      <td>0</td>\n      <td>0</td>\n      <td>0</td>\n      <td>0</td>\n      <td>0</td>\n      <td>0</td>\n      <td>0</td>\n      <td>0</td>\n      <td>0</td>\n      <td>0</td>\n      <td>0</td>\n      <td>0</td>\n      <td>0</td>\n      <td>0</td>\n      <td>0</td>\n      <td>0</td>\n      <td>0</td>\n      <td>0</td>\n      <td>0</td>\n      <td>0</td>\n      <td>0</td>\n      <td>0</td>\n      <td>0</td>\n      <td>0</td>\n      <td>0</td>\n      <td>0</td>\n      <td>0</td>\n      <td>0</td>\n      <td>0</td>\n      <td>1</td>\n      <td>0</td>\n      <td>0</td>\n      <td>0</td>\n      <td>0</td>\n      <td>0</td>\n      <td>1</td>\n      <td>0</td>\n    </tr>\n  </tbody>\n</table>\n</div>"
          },
          "metadata": {}
        }
      ]
    },
    {
      "metadata": {
        "trusted": true,
        "_uuid": "19a966ef641a396eff7155f27a71bcadcacffbe3"
      },
      "cell_type": "code",
      "source": "mobile_Y_train.head()",
      "execution_count": 468,
      "outputs": [
        {
          "output_type": "execute_result",
          "execution_count": 468,
          "data": {
            "text/plain": "0    4.5\n1    4.5\n2    4.4\n3    4.3\n4    4.4\nName: Rating, dtype: float64"
          },
          "metadata": {}
        }
      ]
    },
    {
      "metadata": {
        "trusted": true,
        "_uuid": "76e08beb4e1a0956fd15eaea9db37c205b42c802"
      },
      "cell_type": "code",
      "source": "mobile_Y_train_binarized = mobile_Y_train.map(lambda x:1 if x >= THRESHOLD else 0)",
      "execution_count": 469,
      "outputs": []
    },
    {
      "metadata": {
        "trusted": true,
        "_uuid": "ab9f537376c5b06a6343eacfc47341e9120614ba"
      },
      "cell_type": "code",
      "source": "mobile_Y_train_binarized.head()",
      "execution_count": 470,
      "outputs": [
        {
          "output_type": "execute_result",
          "execution_count": 470,
          "data": {
            "text/plain": "0    1\n1    1\n2    1\n3    1\n4    1\nName: Rating, dtype: int64"
          },
          "metadata": {}
        }
      ]
    },
    {
      "metadata": {
        "trusted": true,
        "_uuid": "56765bd64787d378a1eefcf70ef0a2c40163eef1"
      },
      "cell_type": "code",
      "source": "for i in range(mobile_Y_train.shape[0]):\n    if(mobile_Y_train[i]>=4):\n        mobile_Y_train_binarized[i] = 1\n    else:\n        mobile_Y_train_binarized[i] = 0",
      "execution_count": 471,
      "outputs": []
    },
    {
      "metadata": {
        "trusted": true,
        "_uuid": "dedbe31a40f612d70fdb01ba19c2f466b19338e4"
      },
      "cell_type": "code",
      "source": "mobile_Y_train_binarized.head()",
      "execution_count": 472,
      "outputs": [
        {
          "output_type": "execute_result",
          "execution_count": 472,
          "data": {
            "text/plain": "0    1\n1    1\n2    1\n3    1\n4    1\nName: Rating, dtype: int64"
          },
          "metadata": {}
        }
      ]
    },
    {
      "metadata": {
        "trusted": true,
        "_uuid": "eb8647077fd4daabf58edf6742ac6f56b279ed4f"
      },
      "cell_type": "code",
      "source": "for i in range(mobile_Y_train.shape[0]):\n    print(mobile_Y_train[i], \" \", mobile_Y_train_binarized[i])",
      "execution_count": 473,
      "outputs": [
        {
          "output_type": "stream",
          "text": "4.5   1\n4.5   1\n4.4   1\n4.3   1\n4.4   1\n4.5   1\n4.3   1\n4.1   1\n4.3   1\n4.5   1\n4.5   1\n4.0   1\n4.4   1\n4.4   1\n4.4   1\n4.4   1\n4.5   1\n4.4   1\n4.4   1\n4.4   1\n4.4   1\n4.5   1\n4.4   1\n4.3   1\n4.2   1\n4.3   1\n4.3   1\n4.6   1\n4.4   1\n4.5   1\n3.9   0\n4.2   1\n4.3   1\n4.2   1\n4.3   1\n4.3   1\n4.2   1\n4.4   1\n4.1   1\n3.8   0\n4.4   1\n4.6   1\n4.3   1\n4.5   1\n4.5   1\n4.2   1\n3.9   0\n4.3   1\n4.0   1\n4.3   1\n4.3   1\n3.9   0\n4.2   1\n4.5   1\n4.0   1\n4.6   1\n4.2   1\n2.8   0\n4.4   1\n4.3   1\n4.2   1\n4.4   1\n4.4   1\n4.0   1\n4.4   1\n4.4   1\n4.1   1\n4.5   1\n4.3   1\n3.9   0\n4.3   1\n4.1   1\n4.1   1\n4.2   1\n3.4   0\n4.2   1\n4.6   1\n3.8   0\n4.3   1\n4.5   1\n4.2   1\n4.5   1\n4.5   1\n4.0   1\n4.1   1\n4.4   1\n4.5   1\n4.1   1\n4.5   1\n4.3   1\n4.5   1\n3.9   0\n3.9   0\n4.4   1\n4.4   1\n4.4   1\n4.0   1\n4.1   1\n4.1   1\n4.4   1\n4.3   1\n4.3   1\n4.2   1\n4.3   1\n3.4   0\n4.3   1\n4.3   1\n4.2   1\n4.6   1\n4.8   1\n4.4   1\n3.4   0\n3.7   0\n4.2   1\n4.3   1\n4.4   1\n4.3   1\n4.2   1\n4.1   1\n4.3   1\n4.0   1\n3.9   0\n4.4   1\n4.4   1\n3.9   0\n3.1   0\n3.7   0\n4.2   1\n4.4   1\n4.0   1\n4.0   1\n4.1   1\n4.2   1\n4.3   1\n4.2   1\n4.3   1\n4.1   1\n3.6   0\n4.1   1\n4.0   1\n3.8   0\n3.7   0\n4.3   1\n4.1   1\n4.1   1\n4.5   1\n4.0   1\n4.3   1\n3.6   0\n4.1   1\n4.5   1\n3.5   0\n4.0   1\n4.3   1\n4.6   1\n3.5   0\n3.9   0\n4.1   1\n3.9   0\n3.8   0\n4.4   1\n4.3   1\n4.0   1\n3.9   0\n4.4   1\n4.7   1\n3.9   0\n4.5   1\n3.7   0\n4.0   1\n4.3   1\n4.1   1\n4.8   1\n4.1   1\n4.0   1\n4.7   1\n4.0   1\n4.1   1\n4.0   1\n3.4   0\n4.1   1\n3.9   0\n3.1   0\n4.1   1\n3.7   0\n3.4   0\n3.9   0\n4.3   1\n4.1   1\n3.7   0\n3.8   0\n4.0   1\n3.8   0\n4.6   1\n3.4   0\n3.3   0\n3.2   0\n3.5   0\n4.3   1\n4.1   1\n4.0   1\n3.8   0\n4.3   1\n4.1   1\n4.0   1\n3.8   0\n3.8   0\n3.9   0\n4.1   1\n3.7   0\n4.2   1\n4.0   1\n4.2   1\n4.4   1\n4.1   1\n3.4   0\n4.2   1\n4.4   1\n3.9   0\n3.9   0\n4.4   1\n4.2   1\n4.5   1\n4.5   1\n4.2   1\n4.0   1\n4.2   1\n3.5   0\n3.7   0\n4.3   1\n5.0   1\n3.5   0\n4.4   1\n3.7   0\n4.3   1\n3.9   0\n4.3   1\n3.8   0\n3.8   0\n4.3   1\n5.0   1\n4.1   1\n3.0   0\n4.4   1\n3.0   0\n4.0   1\n4.0   1\n3.9   0\n3.9   0\n4.2   1\n2.8   0\n4.3   1\n3.3   0\n4.3   1\n4.0   1\n4.2   1\n4.1   1\n4.2   1\n3.6   0\n3.5   0\n4.1   1\n4.6   1\n3.9   0\n4.0   1\n3.8   0\n4.1   1\n2.5   0\n4.2   1\n3.7   0\n3.9   0\n4.1   1\n3.0   0\n3.8   0\n4.6   1\n4.2   1\n3.4   0\n3.9   0\n4.5   1\n4.1   1\n3.3   0\n4.1   1\n4.0   1\n3.3   0\n4.4   1\n3.8   0\n3.9   0\n3.6   0\n4.4   1\n4.1   1\n4.1   1\n4.0   1\n3.5   0\n3.0   0\n4.2   1\n4.0   1\n3.9   0\n3.5   0\n3.4   0\n3.4   0\n4.0   1\n3.6   0\n4.0   1\n3.5   0\n4.0   1\n4.0   1\n3.7   0\n4.6   1\n4.0   1\n4.1   1\n4.0   1\n3.5   0\n4.1   1\n3.7   0\n4.4   1\n4.3   1\n4.1   1\n3.9   0\n3.4   0\n3.3   0\n3.9   0\n4.0   1\n4.4   1\n4.5   1\n4.2   1\n3.8   0\n3.7   0\n4.2   1\n4.1   1\n4.0   1\n3.9   0\n3.7   0\n4.2   1\n4.0   1\n3.6   0\n3.6   0\n4.4   1\n3.8   0\n3.9   0\n4.1   1\n3.6   0\n4.3   1\n",
          "name": "stdout"
        }
      ]
    },
    {
      "metadata": {
        "trusted": true,
        "_uuid": "23676d9b9e3015769bcc4344e2bd5859915ce503"
      },
      "cell_type": "code",
      "source": "mobile_Y_train_binarized.shape[0]",
      "execution_count": 474,
      "outputs": [
        {
          "output_type": "execute_result",
          "execution_count": 474,
          "data": {
            "text/plain": "341"
          },
          "metadata": {}
        }
      ]
    },
    {
      "metadata": {
        "trusted": true,
        "_uuid": "efdcfb7040ef2d5acb233b9ed6f022c658f1c47a"
      },
      "cell_type": "code",
      "source": "mobile_X_train_binarized_value = mobile_X_train_binarized.values\nmobile_X_test_binarized_value = mobile_X_test_binarized.values\nmobile_Y_train_binarized_values = mobile_Y_train_binarized.values",
      "execution_count": 475,
      "outputs": []
    },
    {
      "metadata": {
        "trusted": true,
        "_uuid": "2c13446bd1786c635388c4c1f089334a3221b171"
      },
      "cell_type": "code",
      "source": "class MpNeuron:\n    def __init__(self):\n        self.b = None\n    \n    def Model(self, x):\n        return (np.sum(x) >= self.b)\n    \n    def Predict(self, X):\n        Y = []\n        for x in X:\n            result = self.Model(x)\n            Y.append(result)\n        return np.array(Y)\n    \n    def Fit(self, X, Y):\n        \n        accuracy = {}\n        b=0\n        while b <= (X.shape[1]+1):\n            self.b = b\n            Y_hat = self.Predict(X)\n            accuracy[b] =  accuracy_score(Y_hat, Y)\n            print(b, \" \", accuracy[b])\n            b = b+0.3\n            \n        best_b = max(accuracy, key=accuracy.get)\n        self.b = best_b      \n        \n        print(\"Best b: \", self.b)\n        print(\"Accuracy: \",accuracy[self.b])",
      "execution_count": 476,
      "outputs": []
    },
    {
      "metadata": {
        "trusted": true,
        "_uuid": "9838d2df9185ae12f893390e2cf7bf2a76151f36"
      },
      "cell_type": "code",
      "source": "Mp_n = MpNeuron()",
      "execution_count": 477,
      "outputs": []
    },
    {
      "metadata": {
        "trusted": true,
        "_uuid": "aa87ae838a64913b51c1afd952d127da43bacc32"
      },
      "cell_type": "code",
      "source": "Mp_n.Fit(mobile_X_train_binarized_value, mobile_Y_train_binarized_values)",
      "execution_count": 478,
      "outputs": [
        {
          "output_type": "stream",
          "text": "0   0.6979472140762464\n0.3   0.6979472140762464\n0.6   0.6979472140762464\n0.8999999999999999   0.6979472140762464\n1.2   0.6979472140762464\n1.5   0.6979472140762464\n1.8   0.6979472140762464\n2.1   0.6979472140762464\n2.4   0.6979472140762464\n2.6999999999999997   0.6979472140762464\n2.9999999999999996   0.6979472140762464\n3.2999999999999994   0.6979472140762464\n3.599999999999999   0.6979472140762464\n3.899999999999999   0.6979472140762464\n4.199999999999999   0.6979472140762464\n4.499999999999999   0.6979472140762464\n4.799999999999999   0.6979472140762464\n5.099999999999999   0.6979472140762464\n5.399999999999999   0.6979472140762464\n5.699999999999998   0.6979472140762464\n5.999999999999998   0.6979472140762464\n6.299999999999998   0.6832844574780058\n6.599999999999998   0.6832844574780058\n6.899999999999998   0.6832844574780058\n7.1999999999999975   0.7008797653958945\n7.499999999999997   0.7008797653958945\n7.799999999999997   0.7008797653958945\n8.099999999999998   0.6774193548387096\n8.399999999999999   0.6774193548387096\n8.7   0.6774193548387096\n9.0   0.6774193548387096\n9.3   0.6275659824046921\n9.600000000000001   0.6275659824046921\n9.900000000000002   0.6275659824046921\n10.200000000000003   0.533724340175953\n10.500000000000004   0.533724340175953\n10.800000000000004   0.533724340175953\n11.100000000000005   0.44868035190615835\n11.400000000000006   0.44868035190615835\n11.700000000000006   0.44868035190615835\n12.000000000000007   0.30791788856304986\n12.300000000000008   0.30791788856304986\n12.600000000000009   0.30791788856304986\n12.90000000000001   0.30791788856304986\n13.20000000000001   0.3020527859237537\n13.50000000000001   0.3020527859237537\n13.800000000000011   0.3020527859237537\n14.100000000000012   0.3020527859237537\n14.400000000000013   0.3020527859237537\n14.700000000000014   0.3020527859237537\n15.000000000000014   0.3020527859237537\n15.300000000000015   0.3020527859237537\n15.600000000000016   0.3020527859237537\n15.900000000000016   0.3020527859237537\n16.200000000000017   0.3020527859237537\n16.500000000000018   0.3020527859237537\n16.80000000000002   0.3020527859237537\n17.10000000000002   0.3020527859237537\n17.40000000000002   0.3020527859237537\n17.70000000000002   0.3020527859237537\n18.00000000000002   0.3020527859237537\n18.300000000000022   0.3020527859237537\n18.600000000000023   0.3020527859237537\n18.900000000000023   0.3020527859237537\n19.200000000000024   0.3020527859237537\n19.500000000000025   0.3020527859237537\n19.800000000000026   0.3020527859237537\n20.100000000000026   0.3020527859237537\n20.400000000000027   0.3020527859237537\n20.700000000000028   0.3020527859237537\n21.00000000000003   0.3020527859237537\n21.30000000000003   0.3020527859237537\n21.60000000000003   0.3020527859237537\n21.90000000000003   0.3020527859237537\n22.20000000000003   0.3020527859237537\n22.500000000000032   0.3020527859237537\n22.800000000000033   0.3020527859237537\n23.100000000000033   0.3020527859237537\n23.400000000000034   0.3020527859237537\n23.700000000000035   0.3020527859237537\n24.000000000000036   0.3020527859237537\n24.300000000000036   0.3020527859237537\n24.600000000000037   0.3020527859237537\n24.900000000000038   0.3020527859237537\n25.20000000000004   0.3020527859237537\n25.50000000000004   0.3020527859237537\n25.80000000000004   0.3020527859237537\n26.10000000000004   0.3020527859237537\n26.40000000000004   0.3020527859237537\n26.700000000000042   0.3020527859237537\n27.000000000000043   0.3020527859237537\n27.300000000000043   0.3020527859237537\n27.600000000000044   0.3020527859237537\n27.900000000000045   0.3020527859237537\n28.200000000000045   0.3020527859237537\n28.500000000000046   0.3020527859237537\n28.800000000000047   0.3020527859237537\n29.100000000000048   0.3020527859237537\n29.40000000000005   0.3020527859237537\n29.70000000000005   0.3020527859237537\n30.00000000000005   0.3020527859237537\n30.30000000000005   0.3020527859237537\n30.60000000000005   0.3020527859237537\n30.900000000000052   0.3020527859237537\n31.200000000000053   0.3020527859237537\n31.500000000000053   0.3020527859237537\n31.800000000000054   0.3020527859237537\n32.10000000000005   0.3020527859237537\n32.40000000000005   0.3020527859237537\n32.700000000000045   0.3020527859237537\n33.00000000000004   0.3020527859237537\n33.30000000000004   0.3020527859237537\n33.60000000000004   0.3020527859237537\n33.900000000000034   0.3020527859237537\n34.20000000000003   0.3020527859237537\n34.50000000000003   0.3020527859237537\n34.800000000000026   0.3020527859237537\n35.10000000000002   0.3020527859237537\n35.40000000000002   0.3020527859237537\n35.70000000000002   0.3020527859237537\n36.000000000000014   0.3020527859237537\n36.30000000000001   0.3020527859237537\n36.60000000000001   0.3020527859237537\n36.900000000000006   0.3020527859237537\n37.2   0.3020527859237537\n37.5   0.3020527859237537\n37.8   0.3020527859237537\n38.099999999999994   0.3020527859237537\n38.39999999999999   0.3020527859237537\n38.69999999999999   0.3020527859237537\n38.999999999999986   0.3020527859237537\n39.29999999999998   0.3020527859237537\n39.59999999999998   0.3020527859237537\n39.89999999999998   0.3020527859237537\n40.199999999999974   0.3020527859237537\n40.49999999999997   0.3020527859237537\n40.79999999999997   0.3020527859237537\n41.099999999999966   0.3020527859237537\n41.39999999999996   0.3020527859237537\n41.69999999999996   0.3020527859237537\n41.99999999999996   0.3020527859237537\n42.299999999999955   0.3020527859237537\n42.59999999999995   0.3020527859237537\n42.89999999999995   0.3020527859237537\n43.199999999999946   0.3020527859237537\n43.49999999999994   0.3020527859237537\n43.79999999999994   0.3020527859237537\n44.09999999999994   0.3020527859237537\n44.399999999999935   0.3020527859237537\n44.69999999999993   0.3020527859237537\n44.99999999999993   0.3020527859237537\n45.299999999999926   0.3020527859237537\n45.59999999999992   0.3020527859237537\n45.89999999999992   0.3020527859237537\n46.19999999999992   0.3020527859237537\n46.499999999999915   0.3020527859237537\n46.79999999999991   0.3020527859237537\n47.09999999999991   0.3020527859237537\n47.399999999999906   0.3020527859237537\n47.6999999999999   0.3020527859237537\n47.9999999999999   0.3020527859237537\n48.2999999999999   0.3020527859237537\n48.599999999999895   0.3020527859237537\n48.89999999999989   0.3020527859237537\n49.19999999999989   0.3020527859237537\n49.499999999999886   0.3020527859237537\n49.79999999999988   0.3020527859237537\n50.09999999999988   0.3020527859237537\n50.39999999999988   0.3020527859237537\n50.699999999999875   0.3020527859237537\n50.99999999999987   0.3020527859237537\n51.29999999999987   0.3020527859237537\n51.599999999999866   0.3020527859237537\n51.899999999999864   0.3020527859237537\n52.19999999999986   0.3020527859237537\n52.49999999999986   0.3020527859237537\n52.799999999999855   0.3020527859237537\n53.09999999999985   0.3020527859237537\n53.39999999999985   0.3020527859237537\n53.69999999999985   0.3020527859237537\n53.999999999999844   0.3020527859237537\n54.29999999999984   0.3020527859237537\n54.59999999999984   0.3020527859237537\n54.899999999999835   0.3020527859237537\n55.19999999999983   0.3020527859237537\n55.49999999999983   0.3020527859237537\n55.79999999999983   0.3020527859237537\n56.099999999999824   0.3020527859237537\n56.39999999999982   0.3020527859237537\n56.69999999999982   0.3020527859237537\n56.999999999999815   0.3020527859237537\n57.29999999999981   0.3020527859237537\n57.59999999999981   0.3020527859237537\n57.89999999999981   0.3020527859237537\n58.199999999999804   0.3020527859237537\n58.4999999999998   0.3020527859237537\n58.7999999999998   0.3020527859237537\n59.099999999999795   0.3020527859237537\n59.39999999999979   0.3020527859237537\n59.69999999999979   0.3020527859237537\n59.99999999999979   0.3020527859237537\n60.299999999999784   0.3020527859237537\n60.59999999999978   0.3020527859237537\n60.89999999999978   0.3020527859237537\n61.199999999999775   0.3020527859237537\n61.49999999999977   0.3020527859237537\n61.79999999999977   0.3020527859237537\n62.09999999999977   0.3020527859237537\n62.399999999999764   0.3020527859237537\n62.69999999999976   0.3020527859237537\n62.99999999999976   0.3020527859237537\n63.299999999999756   0.3020527859237537\n63.59999999999975   0.3020527859237537\n63.89999999999975   0.3020527859237537\n64.19999999999975   0.3020527859237537\n64.49999999999974   0.3020527859237537\n64.79999999999974   0.3020527859237537\n65.09999999999974   0.3020527859237537\n65.39999999999974   0.3020527859237537\n65.69999999999973   0.3020527859237537\n65.99999999999973   0.3020527859237537\n66.29999999999973   0.3020527859237537\n66.59999999999972   0.3020527859237537\n66.89999999999972   0.3020527859237537\n67.19999999999972   0.3020527859237537\n67.49999999999972   0.3020527859237537\n67.79999999999971   0.3020527859237537\n68.09999999999971   0.3020527859237537\n68.39999999999971   0.3020527859237537\n",
          "name": "stdout"
        },
        {
          "output_type": "stream",
          "text": "68.6999999999997   0.3020527859237537\n68.9999999999997   0.3020527859237537\n69.2999999999997   0.3020527859237537\n69.5999999999997   0.3020527859237537\n69.8999999999997   0.3020527859237537\n70.19999999999969   0.3020527859237537\n70.49999999999969   0.3020527859237537\n70.79999999999968   0.3020527859237537\n71.09999999999968   0.3020527859237537\n71.39999999999968   0.3020527859237537\n71.69999999999968   0.3020527859237537\n71.99999999999967   0.3020527859237537\n72.29999999999967   0.3020527859237537\n72.59999999999967   0.3020527859237537\n72.89999999999966   0.3020527859237537\n73.19999999999966   0.3020527859237537\n73.49999999999966   0.3020527859237537\n73.79999999999966   0.3020527859237537\n74.09999999999965   0.3020527859237537\n74.39999999999965   0.3020527859237537\n74.69999999999965   0.3020527859237537\n74.99999999999964   0.3020527859237537\n75.29999999999964   0.3020527859237537\n75.59999999999964   0.3020527859237537\n75.89999999999964   0.3020527859237537\n76.19999999999963   0.3020527859237537\n76.49999999999963   0.3020527859237537\n76.79999999999963   0.3020527859237537\n77.09999999999962   0.3020527859237537\n77.39999999999962   0.3020527859237537\n77.69999999999962   0.3020527859237537\n77.99999999999962   0.3020527859237537\n78.29999999999961   0.3020527859237537\n78.59999999999961   0.3020527859237537\n78.89999999999961   0.3020527859237537\n79.1999999999996   0.3020527859237537\n79.4999999999996   0.3020527859237537\n79.7999999999996   0.3020527859237537\n80.0999999999996   0.3020527859237537\n80.3999999999996   0.3020527859237537\n80.69999999999959   0.3020527859237537\n80.99999999999959   0.3020527859237537\n81.29999999999959   0.3020527859237537\n81.59999999999958   0.3020527859237537\n81.89999999999958   0.3020527859237537\n82.19999999999958   0.3020527859237537\n82.49999999999957   0.3020527859237537\n82.79999999999957   0.3020527859237537\n83.09999999999957   0.3020527859237537\n83.39999999999957   0.3020527859237537\n83.69999999999956   0.3020527859237537\n83.99999999999956   0.3020527859237537\n84.29999999999956   0.3020527859237537\n84.59999999999955   0.3020527859237537\n84.89999999999955   0.3020527859237537\n85.19999999999955   0.3020527859237537\n85.49999999999955   0.3020527859237537\n85.79999999999954   0.3020527859237537\n86.09999999999954   0.3020527859237537\n86.39999999999954   0.3020527859237537\n86.69999999999953   0.3020527859237537\n86.99999999999953   0.3020527859237537\nBest b:  7.1999999999999975\nAccuracy:  0.7008797653958945\n",
          "name": "stdout"
        }
      ]
    },
    {
      "metadata": {
        "trusted": true,
        "_uuid": "d5a2deca053bc06afe731930a7e2b7c1967226c1"
      },
      "cell_type": "code",
      "source": "Y_test_prediction = Mp_n.Predict(mobile_X_test_binarized_value)",
      "execution_count": 479,
      "outputs": []
    },
    {
      "metadata": {
        "trusted": true,
        "_uuid": "85219be01245690ffbdc7fc6ee9328dee38358aa"
      },
      "cell_type": "code",
      "source": "Y_test_prediction[0].size",
      "execution_count": 480,
      "outputs": [
        {
          "output_type": "execute_result",
          "execution_count": 480,
          "data": {
            "text/plain": "1"
          },
          "metadata": {}
        }
      ]
    },
    {
      "metadata": {
        "trusted": true,
        "_uuid": "11fc629aa101e917c43aab0eb0292c462614aa94"
      },
      "cell_type": "code",
      "source": "test_new['PhoneId'].head()",
      "execution_count": 481,
      "outputs": [
        {
          "output_type": "execute_result",
          "execution_count": 481,
          "data": {
            "text/plain": "0     3\n1    11\n2    13\n3    16\n4    19\nName: PhoneId, dtype: int64"
          },
          "metadata": {}
        }
      ]
    },
    {
      "metadata": {
        "trusted": true,
        "_uuid": "d05044feaf3ad6a4d396631329bf52684018f3ea"
      },
      "cell_type": "code",
      "source": "mobile_X_test_IDs.head()",
      "execution_count": 482,
      "outputs": [
        {
          "output_type": "execute_result",
          "execution_count": 482,
          "data": {
            "text/plain": "0     3\n1    11\n2    13\n3    16\n4    19\nName: PhoneId, dtype: int64"
          },
          "metadata": {}
        }
      ]
    },
    {
      "metadata": {
        "trusted": true,
        "_uuid": "88fafa53ab5e27ede6623f481581575a42e24db8"
      },
      "cell_type": "code",
      "source": "test_new['PhoneId'].shape",
      "execution_count": 483,
      "outputs": [
        {
          "output_type": "execute_result",
          "execution_count": 483,
          "data": {
            "text/plain": "(119,)"
          },
          "metadata": {}
        }
      ]
    },
    {
      "metadata": {
        "trusted": true,
        "_uuid": "9e99090013046901e6aa92942b9e37566e7cf151"
      },
      "cell_type": "code",
      "source": "submission = pd.DataFrame({'PhoneId':test_new['PhoneId'], 'Class':[1]*Y_test_prediction})\nsubmission = submission[['PhoneId', 'Class']]\nsubmission.head()",
      "execution_count": 484,
      "outputs": [
        {
          "output_type": "execute_result",
          "execution_count": 484,
          "data": {
            "text/plain": "   PhoneId  Class\n0        3      1\n1       11      1\n2       13      1\n3       16      1\n4       19      1",
            "text/html": "<div>\n<style scoped>\n    .dataframe tbody tr th:only-of-type {\n        vertical-align: middle;\n    }\n\n    .dataframe tbody tr th {\n        vertical-align: top;\n    }\n\n    .dataframe thead th {\n        text-align: right;\n    }\n</style>\n<table border=\"1\" class=\"dataframe\">\n  <thead>\n    <tr style=\"text-align: right;\">\n      <th></th>\n      <th>PhoneId</th>\n      <th>Class</th>\n    </tr>\n  </thead>\n  <tbody>\n    <tr>\n      <th>0</th>\n      <td>3</td>\n      <td>1</td>\n    </tr>\n    <tr>\n      <th>1</th>\n      <td>11</td>\n      <td>1</td>\n    </tr>\n    <tr>\n      <th>2</th>\n      <td>13</td>\n      <td>1</td>\n    </tr>\n    <tr>\n      <th>3</th>\n      <td>16</td>\n      <td>1</td>\n    </tr>\n    <tr>\n      <th>4</th>\n      <td>19</td>\n      <td>1</td>\n    </tr>\n  </tbody>\n</table>\n</div>"
          },
          "metadata": {}
        }
      ]
    },
    {
      "metadata": {
        "trusted": true,
        "_uuid": "873de1f61979994e697eadb11e309da1ee789320"
      },
      "cell_type": "code",
      "source": "submission.to_csv(\"submission.csv\", index=False)",
      "execution_count": 485,
      "outputs": []
    },
    {
      "metadata": {
        "trusted": true,
        "_uuid": "b35897c7b88c798bbd7ad3266ca9d00d87e420b7"
      },
      "cell_type": "code",
      "source": "\"\"\"\nWRITE YOUR MODELLING CODE HERE\n\"\"\"",
      "execution_count": 486,
      "outputs": [
        {
          "output_type": "execute_result",
          "execution_count": 486,
          "data": {
            "text/plain": "'\\nWRITE YOUR MODELLING CODE HERE\\n'"
          },
          "metadata": {}
        }
      ]
    }
  ],
  "metadata": {
    "kernelspec": {
      "display_name": "Python 3",
      "language": "python",
      "name": "python3"
    },
    "language_info": {
      "name": "python",
      "version": "3.6.6",
      "mimetype": "text/x-python",
      "codemirror_mode": {
        "name": "ipython",
        "version": 3
      },
      "pygments_lexer": "ipython3",
      "nbconvert_exporter": "python",
      "file_extension": ".py"
    }
  },
  "nbformat": 4,
  "nbformat_minor": 1
}